{
 "nbformat": 4,
 "nbformat_minor": 0,
 "metadata": {
  "kernelspec": {
   "display_name": "Python 3",
   "language": "python",
   "name": "python3"
  },
  "language_info": {
   "codemirror_mode": {
    "name": "ipython",
    "version": 2
   },
   "file_extension": ".py",
   "mimetype": "text/x-python",
   "name": "python",
   "nbconvert_exporter": "python",
   "pygments_lexer": "ipython2",
   "version": "2.7.6"
  },
  "colab": {
   "name": "Linear Regression.ipynb",
   "provenance": []
  }
 },
 "cells": [
  {
   "cell_type": "code",
   "metadata": {
    "id": "ubXsoyqXdq2j"
   },
   "source": [
    "import numpy as np\n",
    "import math\n",
    "from sklearn.model_selection import train_test_split\n",
    "from sklearn.linear_model import LinearRegression\n",
    "import matplotlib.pyplot as plt\n",
    "import pandas as pd\n",
    "import operator\n",
    "from sklearn.metrics import mean_squared_error, r2_score\n",
    "from sklearn.preprocessing import PolynomialFeatures\n",
    "import sklearn\n",
    "from sklearn.pipeline import Pipeline\n",
    "from sklearn.linear_model import Ridge\n",
    "import tensorflow as tf\n",
    "from sklearn import preprocessing"
   ],
   "execution_count": 212,
   "outputs": []
  },
  {
   "cell_type": "code",
   "metadata": {
    "pycharm": {
     "name": "#%%\n"
    },
    "colab": {
     "base_uri": "https://localhost:8080/"
    },
    "id": "Cvw37zFndq2m",
    "outputId": "79413f70-5b77-4138-c9ac-45144e26feac"
   },
   "source": [
    "X = np.random.uniform(0,1,20)\n",
    "X\n"
   ],
   "execution_count": 213,
   "outputs": [
    {
     "data": {
      "text/plain": "array([0.69742877, 0.45354268, 0.7220556 , 0.86638233, 0.97552151,\n       0.85580334, 0.01171408, 0.35997806, 0.72999056, 0.17162968,\n       0.52103661, 0.05433799, 0.19999652, 0.01852179, 0.7936977 ,\n       0.22392469, 0.34535168, 0.92808129, 0.7044144 , 0.03183893])"
     },
     "execution_count": 213,
     "metadata": {},
     "output_type": "execute_result"
    }
   ]
  },
  {
   "cell_type": "code",
   "metadata": {
    "pycharm": {
     "name": "#%%\n"
    },
    "colab": {
     "base_uri": "https://localhost:8080/"
    },
    "id": "6tUdIFPqdq2m",
    "outputId": "76f56eda-a438-40d8-d90d-cc24cae29b2c"
   },
   "source": [
    "mean = 0\n",
    "s_d = 1\n",
    "N = np.random.normal(mean, s_d, 20)\n",
    "N"
   ],
   "execution_count": 214,
   "outputs": [
    {
     "data": {
      "text/plain": "array([ 0.39600671, -1.09306151, -1.49125759,  0.4393917 ,  0.1666735 ,\n        0.63503144,  2.38314477,  0.94447949, -0.91282223,  1.11701629,\n       -1.31590741, -0.4615846 , -0.06824161,  1.71334272, -0.74475482,\n       -0.82643854, -0.09845252, -0.66347829,  1.12663592, -1.07993151])"
     },
     "execution_count": 214,
     "metadata": {},
     "output_type": "execute_result"
    }
   ]
  },
  {
   "cell_type": "code",
   "metadata": {
    "pycharm": {
     "name": "#%%\n"
    },
    "colab": {
     "base_uri": "https://localhost:8080/",
     "height": 415
    },
    "id": "WqRq2Yu4dq2n",
    "outputId": "91e852fd-b289-40b9-8bac-c171a7afe22c"
   },
   "source": [
    "y=np.sin(2*np.pi*X)+(0.1 * N)\n",
    "print(y)\n",
    "print(X)\n",
    "plt.scatter(X,y)\n",
    "plt.xlabel('X')\n",
    "plt.ylabel('y=sin(2*pi*X)+0.1 * N')\n",
    "plt.show()\n"
   ],
   "execution_count": 215,
   "outputs": [
    {
     "name": "stdout",
     "output_type": "stream",
     "text": [
      "[-0.90633963  0.17846616 -1.13375118 -0.70039991 -0.13652991 -0.72354814\n",
      "  0.3118498   0.86504904 -1.08338949  0.99289523 -0.2633831   0.28866291\n",
      "  0.94422561  0.28744763 -1.03701986  0.90396502  0.81599128 -0.50300414\n",
      " -0.84659707  0.09072508]\n",
      "[0.69742877 0.45354268 0.7220556  0.86638233 0.97552151 0.85580334\n",
      " 0.01171408 0.35997806 0.72999056 0.17162968 0.52103661 0.05433799\n",
      " 0.19999652 0.01852179 0.7936977  0.22392469 0.34535168 0.92808129\n",
      " 0.7044144  0.03183893]\n"
     ]
    },
    {
     "data": {
      "text/plain": "<Figure size 432x288 with 1 Axes>",
      "image/png": "[encoded data removed]"
     },
     "metadata": {
      "needs_background": "light"
     },
     "output_type": "display_data"
    }
   ]
  },
  {
   "cell_type": "code",
   "metadata": {
    "pycharm": {
     "name": "#%%\n"
    },
    "colab": {
     "base_uri": "https://localhost:8080/"
    },
    "id": "ljA_yhY8dq2o",
    "outputId": "d17f4e7c-d057-4f35-d457-ea1ec9504c85"
   },
   "source": [
    "X_train, X_test, y_train, y_test = train_test_split(X, y, test_size=0.5)\n",
    "print(X_train)\n",
    "print(X_test)\n",
    "print(y_train)\n",
    "print(y_test)\n",
    "\n",
    "d= {\"X_train\":X_train, \"Y_train\":y_train, \"X_test\":X_test, \"y_test\":y_test}\n",
    "df = pd.DataFrame(d)\n",
    "df"
   ],
   "execution_count": 216,
   "outputs": [
    {
     "name": "stdout",
     "output_type": "stream",
     "text": [
      "[0.01852179 0.69742877 0.7220556  0.34535168 0.7044144  0.85580334\n",
      " 0.7936977  0.17162968 0.92808129 0.05433799]\n",
      "[0.52103661 0.86638233 0.35997806 0.22392469 0.97552151 0.19999652\n",
      " 0.72999056 0.01171408 0.03183893 0.45354268]\n",
      "[ 0.28744763 -0.90633963 -1.13375118  0.81599128 -0.84659707 -0.72354814\n",
      " -1.03701986  0.99289523 -0.50300414  0.28866291]\n",
      "[-0.2633831  -0.70039991  0.86504904  0.90396502 -0.13652991  0.94422561\n",
      " -1.08338949  0.3118498   0.09072508  0.17846616]\n"
     ]
    },
    {
     "data": {
      "text/plain": "    X_train   Y_train    X_test    y_test\n0  0.018522  0.287448  0.521037 -0.263383\n1  0.697429 -0.906340  0.866382 -0.700400\n2  0.722056 -1.133751  0.359978  0.865049\n3  0.345352  0.815991  0.223925  0.903965\n4  0.704414 -0.846597  0.975522 -0.136530\n5  0.855803 -0.723548  0.199997  0.944226\n6  0.793698 -1.037020  0.729991 -1.083389\n7  0.171630  0.992895  0.011714  0.311850\n8  0.928081 -0.503004  0.031839  0.090725\n9  0.054338  0.288663  0.453543  0.178466",
      "text/html": "<div>\n<style scoped>\n    .dataframe tbody tr th:only-of-type {\n        vertical-align: middle;\n    }\n\n    .dataframe tbody tr th {\n        vertical-align: top;\n    }\n\n    .dataframe thead th {\n        text-align: right;\n    }\n</style>\n<table border=\"1\" class=\"dataframe\">\n  <thead>\n    <tr style=\"text-align: right;\">\n      <th></th>\n      <th>X_train</th>\n      <th>Y_train</th>\n      <th>X_test</th>\n      <th>y_test</th>\n    </tr>\n  </thead>\n  <tbody>\n    <tr>\n      <th>0</th>\n      <td>0.018522</td>\n      <td>0.287448</td>\n      <td>0.521037</td>\n      <td>-0.263383</td>\n    </tr>\n    <tr>\n      <th>1</th>\n      <td>0.697429</td>\n      <td>-0.906340</td>\n      <td>0.866382</td>\n      <td>-0.700400</td>\n    </tr>\n    <tr>\n      <th>2</th>\n      <td>0.722056</td>\n      <td>-1.133751</td>\n      <td>0.359978</td>\n      <td>0.865049</td>\n    </tr>\n    <tr>\n      <th>3</th>\n      <td>0.345352</td>\n      <td>0.815991</td>\n      <td>0.223925</td>\n      <td>0.903965</td>\n    </tr>\n    <tr>\n      <th>4</th>\n      <td>0.704414</td>\n      <td>-0.846597</td>\n      <td>0.975522</td>\n      <td>-0.136530</td>\n    </tr>\n    <tr>\n      <th>5</th>\n      <td>0.855803</td>\n      <td>-0.723548</td>\n      <td>0.199997</td>\n      <td>0.944226</td>\n    </tr>\n    <tr>\n      <th>6</th>\n      <td>0.793698</td>\n      <td>-1.037020</td>\n      <td>0.729991</td>\n      <td>-1.083389</td>\n    </tr>\n    <tr>\n      <th>7</th>\n      <td>0.171630</td>\n      <td>0.992895</td>\n      <td>0.011714</td>\n      <td>0.311850</td>\n    </tr>\n    <tr>\n      <th>8</th>\n      <td>0.928081</td>\n      <td>-0.503004</td>\n      <td>0.031839</td>\n      <td>0.090725</td>\n    </tr>\n    <tr>\n      <th>9</th>\n      <td>0.054338</td>\n      <td>0.288663</td>\n      <td>0.453543</td>\n      <td>0.178466</td>\n    </tr>\n  </tbody>\n</table>\n</div>"
     },
     "execution_count": 216,
     "metadata": {},
     "output_type": "execute_result"
    }
   ]
  },
  {
   "cell_type": "code",
   "metadata": {
    "pycharm": {
     "name": "#%%\n"
    },
    "id": "R05mRq2Idq2o"
   },
   "source": [
    "x = X_train[:, np.newaxis]\n",
    "y = y_train[:, np.newaxis]\n",
    "model = LinearRegression()\n",
    "model.fit(x,y)\n",
    "y_pred = model.predict(x)"
   ],
   "execution_count": 217,
   "outputs": []
  },
  {
   "cell_type": "code",
   "metadata": {
    "pycharm": {
     "name": "#%%\n"
    },
    "colab": {
     "base_uri": "https://localhost:8080/",
     "height": 265
    },
    "id": "x_3X6-4Odq2p",
    "outputId": "6ee599ba-359a-4c11-dbd0-7b6b13eed7a8"
   },
   "source": [
    "plt.scatter(x,y,s=15)\n",
    "plt.plot(x,y_pred, color='r')\n",
    "plt.show()"
   ],
   "execution_count": 218,
   "outputs": [
    {
     "data": {
      "text/plain": "<Figure size 432x288 with 1 Axes>",
      "image/png": "[encoded data removed]"
     },
     "metadata": {
      "needs_background": "light"
     },
     "output_type": "display_data"
    }
   ]
  },
  {
   "cell_type": "code",
   "metadata": {
    "pycharm": {
     "name": "#%%\n"
    },
    "colab": {
     "base_uri": "https://localhost:8080/",
     "height": 363
    },
    "id": "RxEoD-IYdq2p",
    "outputId": "44dfaca8-8d07-4751-8c85-344fa33f43b9"
   },
   "source": [
    "np.random.seed(0)\n",
    "polynomial_features= PolynomialFeatures(degree=0)\n",
    "x_poly = polynomial_features.fit_transform(x)\n",
    "\n",
    "model0 = LinearRegression()\n",
    "model0.fit(x_poly, y)\n",
    "y_poly_pred = model0.predict(x_poly)\n",
    "\n",
    "rmse = np.sqrt(mean_squared_error(y,y_poly_pred))\n",
    "r2 = r2_score(y,y_poly_pred)\n",
    "print(\"RMSE:\",rmse)\n",
    "print(\"R2:\",r2)\n",
    "print('weights:')\n",
    "print(model0.coef_)\n",
    "plt.scatter(x, y, s=10)\n",
    "# sort the values of x before line plot\n",
    "sort_axis = operator.itemgetter(0)\n",
    "sorted_zip = sorted(zip(x,y_poly_pred), key=sort_axis)\n",
    "x, y_poly_pred = zip(*sorted_zip)\n",
    "plt.plot(x, y_poly_pred, color='m')\n",
    "plt.title('When order, M=0')\n",
    "plt.xlabel('X')\n",
    "plt.ylabel('y=sin(2*pi*X)+0.1*N')\n",
    "plt.show()"
   ],
   "execution_count": 219,
   "outputs": [
    {
     "name": "stdout",
     "output_type": "stream",
     "text": [
      "RMSE: 0.7568673803803481\n",
      "R2: 0.0\n",
      "weights:\n",
      "[[0.]]\n"
     ]
    },
    {
     "data": {
      "text/plain": "<Figure size 432x288 with 1 Axes>",
      "image/png": "[encoded data removed]"
     },
     "metadata": {
      "needs_background": "light"
     },
     "output_type": "display_data"
    }
   ]
  },
  {
   "cell_type": "code",
   "metadata": {
    "pycharm": {
     "name": "#%%\n"
    },
    "colab": {
     "base_uri": "https://localhost:8080/",
     "height": 346
    },
    "id": "GAcGRFvzdq2p",
    "outputId": "d6c16c08-72e5-40c0-8d6f-680e02026ee5"
   },
   "source": [
    "np.random.seed(0)\n",
    "polynomial_features= PolynomialFeatures(degree=1)\n",
    "x_poly = polynomial_features.fit_transform(x)\n",
    "\n",
    "model1 = LinearRegression()\n",
    "model1.fit(x_poly, y)\n",
    "y_poly_pred = model1.predict(x_poly)\n",
    "\n",
    "rmse = np.sqrt(mean_squared_error(y,y_poly_pred))\n",
    "r2 = r2_score(y,y_poly_pred)\n",
    "print(\"RMSE:\",rmse)\n",
    "print(\"R2:\",r2)\n",
    "print(model1.coef_)\n",
    "plt.scatter(x, y, s=10)\n",
    "# sort the values of x before line plot\n",
    "sort_axis = operator.itemgetter(0)\n",
    "sorted_zip = sorted(zip(x,y_poly_pred), key=sort_axis)\n",
    "x, y_poly_pred = zip(*sorted_zip)\n",
    "plt.plot(x, y_poly_pred, color='m')\n",
    "plt.title('When order, M=1')\n",
    "plt.xlabel('X')\n",
    "plt.ylabel('y=sin(2*pi*X)+0.1*N')\n",
    "plt.show()"
   ],
   "execution_count": 220,
   "outputs": [
    {
     "name": "stdout",
     "output_type": "stream",
     "text": [
      "RMSE: 0.7519495764684473\n",
      "R2: 0.012952935044441616\n",
      "[[0.         0.26213059]]\n"
     ]
    },
    {
     "data": {
      "text/plain": "<Figure size 432x288 with 1 Axes>",
      "image/png": "[encoded data removed]"
     },
     "metadata": {
      "needs_background": "light"
     },
     "output_type": "display_data"
    }
   ]
  },
  {
   "cell_type": "code",
   "metadata": {
    "pycharm": {
     "name": "#%%\n"
    },
    "colab": {
     "base_uri": "https://localhost:8080/",
     "height": 346
    },
    "id": "QyE5gdAadq2q",
    "outputId": "df6e581d-6f06-4603-bdcf-c4443d73a4fb"
   },
   "source": [
    "np.random.seed(0)\n",
    "polynomial_features= PolynomialFeatures(degree=3)\n",
    "x_poly = polynomial_features.fit_transform(x)\n",
    "\n",
    "model3 = LinearRegression()\n",
    "model3.fit(x_poly, y)\n",
    "y_poly_pred = model3.predict(x_poly)\n",
    "\n",
    "rmse = np.sqrt(mean_squared_error(y,y_poly_pred))\n",
    "r2 = r2_score(y,y_poly_pred)\n",
    "print(\"RMSE:\",rmse)\n",
    "print(\"R2:\",r2)\n",
    "print(model3.coef_)\n",
    "\n",
    "plt.scatter(x, y, s=10)\n",
    "# sort the values of x before line plot\n",
    "sort_axis = operator.itemgetter(0)\n",
    "sorted_zip = sorted(zip(x,y_poly_pred), key=sort_axis)\n",
    "x, y_poly_pred = zip(*sorted_zip)\n",
    "plt.plot(x, y_poly_pred, color='m')\n",
    "plt.title('When order, M=3')\n",
    "plt.xlabel('X')\n",
    "plt.ylabel('y=sin(2*pi*X)+0.1*N')\n",
    "plt.show()"
   ],
   "execution_count": 221,
   "outputs": [
    {
     "name": "stdout",
     "output_type": "stream",
     "text": [
      "RMSE: 0.7283817143058953\n",
      "R2: 0.07385605370383574\n",
      "[[  0.           3.21901059 -10.25044715   8.242606  ]]\n"
     ]
    },
    {
     "data": {
      "text/plain": "<Figure size 432x288 with 1 Axes>",
      "image/png": "[encoded data removed]"
     },
     "metadata": {
      "needs_background": "light"
     },
     "output_type": "display_data"
    }
   ]
  },
  {
   "cell_type": "code",
   "metadata": {
    "pycharm": {
     "name": "#%%\n"
    },
    "colab": {
     "base_uri": "https://localhost:8080/",
     "height": 380
    },
    "id": "NYzdvX5Cdq2q",
    "outputId": "2633ff5b-809e-49aa-b4c9-505156c806d0"
   },
   "source": [
    "np.random.seed(0)\n",
    "polynomial_features= PolynomialFeatures(degree=9)\n",
    "x_poly = polynomial_features.fit_transform(x)\n",
    "\n",
    "model9 = LinearRegression()\n",
    "model9.fit(x_poly, y)\n",
    "y_poly_pred = model9.predict(x_poly)\n",
    "\n",
    "rmse = np.sqrt(mean_squared_error(y,y_poly_pred))\n",
    "r2 = r2_score(y,y_poly_pred)\n",
    "print(\"RMSE:\",rmse)\n",
    "print(\"R2:\",r2)\n",
    "print(model9.coef_)\n",
    "\n",
    "plt.scatter(x, y, s=10)\n",
    "# sort the values of x before line plot\n",
    "sort_axis = operator.itemgetter(0)\n",
    "sorted_zip = sorted(zip(x,y_poly_pred), key=sort_axis)\n",
    "x, y_poly_pred = zip(*sorted_zip)\n",
    "plt.plot(x, y_poly_pred, color='m')\n",
    "plt.title('When order,M =9')\n",
    "plt.xlabel('X')\n",
    "plt.ylabel('y=sin(2*pi*X)+0.1*N')\n",
    "plt.show()"
   ],
   "execution_count": 222,
   "outputs": [
    {
     "name": "stdout",
     "output_type": "stream",
     "text": [
      "RMSE: 3.293032746314301e-09\n",
      "R2: 1.0\n",
      "[[ 0.00000000e+00  1.32692953e+04 -3.30920990e+05  3.30202547e+06\n",
      "  -1.64538690e+07  4.59456371e+07 -7.55195929e+07  7.27111367e+07\n",
      "  -3.80009362e+07  8.33425479e+06]]\n"
     ]
    },
    {
     "data": {
      "text/plain": "<Figure size 432x288 with 1 Axes>",
      "image/png": "[encoded data removed]"
     },
     "metadata": {
      "needs_background": "light"
     },
     "output_type": "display_data"
    }
   ]
  },
  {
   "cell_type": "code",
   "metadata": {
    "pycharm": {
     "name": "#%%\n"
    },
    "colab": {
     "base_uri": "https://localhost:8080/"
    },
    "id": "HNEWL_9tdq2q",
    "outputId": "acfb90c6-bf83-4886-f576-f5c1bce3ae06"
   },
   "source": [
    "print(model0.coef_)\n",
    "print(model1.coef_)\n",
    "print(model3.coef_)\n",
    "print(model9.coef_)"
   ],
   "execution_count": 223,
   "outputs": [
    {
     "name": "stdout",
     "output_type": "stream",
     "text": [
      "[[0.]]\n",
      "[[0.         0.26213059]]\n",
      "[[  0.           3.21901059 -10.25044715   8.242606  ]]\n",
      "[[ 0.00000000e+00  1.32692953e+04 -3.30920990e+05  3.30202547e+06\n",
      "  -1.64538690e+07  4.59456371e+07 -7.55195929e+07  7.27111367e+07\n",
      "  -3.80009362e+07  8.33425479e+06]]\n"
     ]
    }
   ]
  },
  {
   "cell_type": "code",
   "metadata": {
    "pycharm": {
     "name": "#%%\n"
    },
    "colab": {
     "base_uri": "https://localhost:8080/",
     "height": 430
    },
    "id": "_auZC815dq2q",
    "outputId": "1d508d76-4301-4fac-a849-6bdd506c6dd8"
   },
   "source": [
    "data = {'M=0':[model0.coef_[0][0],\"\",\"\",\"\",\"\",\"\",\"\",\"\",\"\",\"\" ],'M=1':[model1.coef_[0][0],model1.coef_[0][1],\"\",\"\",\"\",\"\",\"\",\"\",\"\",\"\"],'M=3':[model3.coef_[0][0],model3.coef_[0][1],model3.coef_[0][2],model3.coef_[0][3],\"\",\"\",\"\",\"\",\"\",\"\"],'M=9':[ model9.coef_[0][0],model9.coef_[0][1],model9.coef_[0][2],model9.coef_[0][3],model9.coef_[0][4], model9.coef_[0][5],model9.coef_[0][6],model9.coef_[0][7],model9.coef_[0][8],model9.coef_[0][9]]}\n",
    "print(data)\n",
    "\n",
    "df.w = pd.DataFrame(data, index =['w0', 'w1', 'w2', 'w3', 'w4', 'w5', 'w6', 'w7', 'w8', 'w9'])\n",
    "\n",
    "df.w"
   ],
   "execution_count": 224,
   "outputs": [
    {
     "name": "stdout",
     "output_type": "stream",
     "text": [
      "{'M=0': [0.0, '', '', '', '', '', '', '', '', ''], 'M=1': [0.0, 0.2621305870723769, '', '', '', '', '', '', '', ''], 'M=3': [0.0, 3.2190105913245035, -10.250447148423282, 8.242606003316299, '', '', '', '', '', ''], 'M=9': [0.0, 13269.295276771692, -330920.9898885624, 3302025.4666005145, -16453868.962149223, 45945637.10364015, -75519592.88080426, 72711136.69308563, -38000936.15774952, 8334254.786580411]}\n"
     ]
    },
    {
     "name": "stderr",
     "output_type": "stream",
     "text": [
      "<ipython-input-224-73fd4715cac2>:4: UserWarning: Pandas doesn't allow columns to be created via a new attribute name - see https://pandas.pydata.org/pandas-docs/stable/indexing.html#attribute-access\n",
      "  df.w = pd.DataFrame(data, index =['w0', 'w1', 'w2', 'w3', 'w4', 'w5', 'w6', 'w7', 'w8', 'w9'])\n"
     ]
    },
    {
     "data": {
      "text/plain": "    M=0       M=1        M=3           M=9\nw0  0.0       0.0        0.0  0.000000e+00\nw1       0.262131   3.219011  1.326930e+04\nw2                -10.250447 -3.309210e+05\nw3                  8.242606  3.302025e+06\nw4                           -1.645387e+07\nw5                            4.594564e+07\nw6                           -7.551959e+07\nw7                            7.271114e+07\nw8                           -3.800094e+07\nw9                            8.334255e+06",
      "text/html": "<div>\n<style scoped>\n    .dataframe tbody tr th:only-of-type {\n        vertical-align: middle;\n    }\n\n    .dataframe tbody tr th {\n        vertical-align: top;\n    }\n\n    .dataframe thead th {\n        text-align: right;\n    }\n</style>\n<table border=\"1\" class=\"dataframe\">\n  <thead>\n    <tr style=\"text-align: right;\">\n      <th></th>\n      <th>M=0</th>\n      <th>M=1</th>\n      <th>M=3</th>\n      <th>M=9</th>\n    </tr>\n  </thead>\n  <tbody>\n    <tr>\n      <th>w0</th>\n      <td>0.0</td>\n      <td>0.0</td>\n      <td>0.0</td>\n      <td>0.000000e+00</td>\n    </tr>\n    <tr>\n      <th>w1</th>\n      <td></td>\n      <td>0.262131</td>\n      <td>3.219011</td>\n      <td>1.326930e+04</td>\n    </tr>\n    <tr>\n      <th>w2</th>\n      <td></td>\n      <td></td>\n      <td>-10.250447</td>\n      <td>-3.309210e+05</td>\n    </tr>\n    <tr>\n      <th>w3</th>\n      <td></td>\n      <td></td>\n      <td>8.242606</td>\n      <td>3.302025e+06</td>\n    </tr>\n    <tr>\n      <th>w4</th>\n      <td></td>\n      <td></td>\n      <td></td>\n      <td>-1.645387e+07</td>\n    </tr>\n    <tr>\n      <th>w5</th>\n      <td></td>\n      <td></td>\n      <td></td>\n      <td>4.594564e+07</td>\n    </tr>\n    <tr>\n      <th>w6</th>\n      <td></td>\n      <td></td>\n      <td></td>\n      <td>-7.551959e+07</td>\n    </tr>\n    <tr>\n      <th>w7</th>\n      <td></td>\n      <td></td>\n      <td></td>\n      <td>7.271114e+07</td>\n    </tr>\n    <tr>\n      <th>w8</th>\n      <td></td>\n      <td></td>\n      <td></td>\n      <td>-3.800094e+07</td>\n    </tr>\n    <tr>\n      <th>w9</th>\n      <td></td>\n      <td></td>\n      <td></td>\n      <td>8.334255e+06</td>\n    </tr>\n  </tbody>\n</table>\n</div>"
     },
     "execution_count": 224,
     "metadata": {},
     "output_type": "execute_result"
    }
   ]
  },
  {
   "cell_type": "code",
   "metadata": {
    "pycharm": {
     "name": "#%%\n"
    },
    "colab": {
     "base_uri": "https://localhost:8080/"
    },
    "id": "HkGFF8B7dq2r",
    "outputId": "9e9333e5-1483-43bf-edfb-f0f1cf6c4b84"
   },
   "source": [
    "train_rmse = []\n",
    "for m in range(0,10):\n",
    "    np.random.seed(0)\n",
    "    polynomial_features= PolynomialFeatures(degree=(m))\n",
    "    x_poly = polynomial_features.fit_transform(x)\n",
    "\n",
    "    model0 = LinearRegression()\n",
    "    model0.fit(x_poly, y)\n",
    "    y_poly_pred = model0.predict(x_poly)\n",
    "\n",
    "    rmse = np.sqrt(mean_squared_error(y,y_poly_pred))\n",
    "    r2 = r2_score(y,y_poly_pred)\n",
    "    print(\"RMSE:\",rmse)\n",
    "    train_rmse.append(rmse)\n"
   ],
   "execution_count": 225,
   "outputs": [
    {
     "name": "stdout",
     "output_type": "stream",
     "text": [
      "RMSE: 0.7568673803803481\n",
      "RMSE: 0.7519495764684473\n",
      "RMSE: 0.7439719235946133\n",
      "RMSE: 0.7283817143058953\n",
      "RMSE: 0.6510304970637747\n",
      "RMSE: 0.4648330633171022\n",
      "RMSE: 0.4538652431486828\n",
      "RMSE: 0.2662292684513589\n",
      "RMSE: 0.06687137848310841\n",
      "RMSE: 3.293032746314301e-09\n"
     ]
    }
   ]
  },
  {
   "cell_type": "code",
   "metadata": {
    "pycharm": {
     "name": "#%%\n"
    },
    "id": "xZzZWqUhdq2s"
   },
   "source": [
    "x = X_test[:, np.newaxis]\n",
    "y = y_test[:, np.newaxis]"
   ],
   "execution_count": 226,
   "outputs": []
  },
  {
   "cell_type": "code",
   "metadata": {
    "pycharm": {
     "name": "#%%\n"
    },
    "colab": {
     "base_uri": "https://localhost:8080/"
    },
    "id": "qP7EUoL0dq2s",
    "outputId": "76f61733-eb1a-412b-86ff-e6b30dcbd8d9"
   },
   "source": [
    "test_rmse = []\n",
    "for m in range(0,10):\n",
    "    np.random.seed(0)\n",
    "    polynomial_features= PolynomialFeatures(degree=(m))\n",
    "    x_poly = polynomial_features.fit_transform(x)\n",
    "\n",
    "    model0 = LinearRegression()\n",
    "    model0.fit(x_poly, y)\n",
    "    y_poly_pred = model0.predict(x_poly)\n",
    "\n",
    "    rmse = np.sqrt(mean_squared_error(y,y_poly_pred))\n",
    "    r2 = r2_score(y,y_poly_pred)\n",
    "    print(\"RMSE:\",rmse)\n",
    "    test_rmse.append(rmse)"
   ],
   "execution_count": 227,
   "outputs": [
    {
     "name": "stdout",
     "output_type": "stream",
     "text": [
      "RMSE: 0.6498708787928923\n",
      "RMSE: 0.4899201014657189\n",
      "RMSE: 0.4812508740977651\n",
      "RMSE: 0.13673726879766038\n",
      "RMSE: 0.13627731441828975\n",
      "RMSE: 0.06728137378573901\n",
      "RMSE: 0.040950751810797985\n",
      "RMSE: 0.03696364085772111\n",
      "RMSE: 0.03680116801585467\n",
      "RMSE: 1.5275971105117497e-11\n"
     ]
    }
   ]
  },
  {
   "cell_type": "code",
   "metadata": {
    "pycharm": {
     "name": "#%%\n"
    },
    "colab": {
     "base_uri": "https://localhost:8080/",
     "height": 396
    },
    "id": "cQOBMBRGdq2s",
    "outputId": "42e7e4b2-6ec6-4d5b-8d98-3be122c8f7ba"
   },
   "source": [
    "# intialise data of lists.\n",
    "data1 = {'M':[0,1,2,3,4,5,6,7,8,9],'Train.RMSE':train_rmse,'Test.RMSE':test_rmse}\n",
    "print(data)\n",
    "# Creates pandas DataFrame.\n",
    "df1 = pd.DataFrame(data1)\n",
    "\n",
    "# print the data\n",
    "df1"
   ],
   "execution_count": 228,
   "outputs": [
    {
     "name": "stdout",
     "output_type": "stream",
     "text": [
      "{'M=0': [0.0, '', '', '', '', '', '', '', '', ''], 'M=1': [0.0, 0.2621305870723769, '', '', '', '', '', '', '', ''], 'M=3': [0.0, 3.2190105913245035, -10.250447148423282, 8.242606003316299, '', '', '', '', '', ''], 'M=9': [0.0, 13269.295276771692, -330920.9898885624, 3302025.4666005145, -16453868.962149223, 45945637.10364015, -75519592.88080426, 72711136.69308563, -38000936.15774952, 8334254.786580411]}\n"
     ]
    },
    {
     "data": {
      "text/plain": "   M    Train.RMSE     Test.RMSE\n0  0  7.568674e-01  6.498709e-01\n1  1  7.519496e-01  4.899201e-01\n2  2  7.439719e-01  4.812509e-01\n3  3  7.283817e-01  1.367373e-01\n4  4  6.510305e-01  1.362773e-01\n5  5  4.648331e-01  6.728137e-02\n6  6  4.538652e-01  4.095075e-02\n7  7  2.662293e-01  3.696364e-02\n8  8  6.687138e-02  3.680117e-02\n9  9  3.293033e-09  1.527597e-11",
      "text/html": "<div>\n<style scoped>\n    .dataframe tbody tr th:only-of-type {\n        vertical-align: middle;\n    }\n\n    .dataframe tbody tr th {\n        vertical-align: top;\n    }\n\n    .dataframe thead th {\n        text-align: right;\n    }\n</style>\n<table border=\"1\" class=\"dataframe\">\n  <thead>\n    <tr style=\"text-align: right;\">\n      <th></th>\n      <th>M</th>\n      <th>Train.RMSE</th>\n      <th>Test.RMSE</th>\n    </tr>\n  </thead>\n  <tbody>\n    <tr>\n      <th>0</th>\n      <td>0</td>\n      <td>7.568674e-01</td>\n      <td>6.498709e-01</td>\n    </tr>\n    <tr>\n      <th>1</th>\n      <td>1</td>\n      <td>7.519496e-01</td>\n      <td>4.899201e-01</td>\n    </tr>\n    <tr>\n      <th>2</th>\n      <td>2</td>\n      <td>7.439719e-01</td>\n      <td>4.812509e-01</td>\n    </tr>\n    <tr>\n      <th>3</th>\n      <td>3</td>\n      <td>7.283817e-01</td>\n      <td>1.367373e-01</td>\n    </tr>\n    <tr>\n      <th>4</th>\n      <td>4</td>\n      <td>6.510305e-01</td>\n      <td>1.362773e-01</td>\n    </tr>\n    <tr>\n      <th>5</th>\n      <td>5</td>\n      <td>4.648331e-01</td>\n      <td>6.728137e-02</td>\n    </tr>\n    <tr>\n      <th>6</th>\n      <td>6</td>\n      <td>4.538652e-01</td>\n      <td>4.095075e-02</td>\n    </tr>\n    <tr>\n      <th>7</th>\n      <td>7</td>\n      <td>2.662293e-01</td>\n      <td>3.696364e-02</td>\n    </tr>\n    <tr>\n      <th>8</th>\n      <td>8</td>\n      <td>6.687138e-02</td>\n      <td>3.680117e-02</td>\n    </tr>\n    <tr>\n      <th>9</th>\n      <td>9</td>\n      <td>3.293033e-09</td>\n      <td>1.527597e-11</td>\n    </tr>\n  </tbody>\n</table>\n</div>"
     },
     "execution_count": 228,
     "metadata": {},
     "output_type": "execute_result"
    }
   ]
  },
  {
   "cell_type": "code",
   "metadata": {
    "pycharm": {
     "name": "#%%\n"
    },
    "colab": {
     "base_uri": "https://localhost:8080/",
     "height": 283
    },
    "id": "OTkLuxLfdq2s",
    "outputId": "2d67712a-d02d-402c-d987-c2a49f93a8c3"
   },
   "source": [
    "plt.plot( 'M', 'Train.RMSE', data=df1, marker='o', markerfacecolor='red', markersize=12, color='skyblue', linewidth=4)\n",
    "plt.plot( 'M', 'Test.RMSE', data=df1, marker='o',markerfacecolor='blue',markersize=12, color='olive', linewidth=4)\n",
    "plt.legend()\n",
    "plt.ylabel('RMSE')\n",
    "plt.xlabel('M')\n",
    "plt.ylim((0,1))\n",
    "plt.xlim((0,10))\n",
    "plt.show()"
   ],
   "execution_count": 229,
   "outputs": [
    {
     "data": {
      "text/plain": "<Figure size 432x288 with 1 Axes>",
      "image/png": "[encoded data removed]"
     },
     "metadata": {
      "needs_background": "light"
     },
     "output_type": "display_data"
    }
   ]
  },
  {
   "cell_type": "code",
   "metadata": {
    "pycharm": {
     "name": "#%%\n"
    },
    "colab": {
     "base_uri": "https://localhost:8080/"
    },
    "id": "nNZTGbHpdq2t",
    "outputId": "6f159c2a-9b0f-4b8a-870d-f87c070444c2"
   },
   "source": [
    "np.random.seed(100)\n",
    "X2 = np.random.uniform(0,1,100)\n",
    "print(X2)\n",
    "mean, s_d = 0, 1 # mean and standard deviation\n",
    "N = np.random.normal(mean, s_d, 100)\n",
    "print(N)\n",
    "import matplotlib.pyplot as plt\n",
    "y2=np.sin(2*np.pi*X2)+(0.1 * N)\n",
    "print(y2)\n",
    "print(X2)"
   ],
   "execution_count": 230,
   "outputs": [
    {
     "name": "stdout",
     "output_type": "stream",
     "text": [
      "[0.54340494 0.27836939 0.42451759 0.84477613 0.00471886 0.12156912\n",
      " 0.67074908 0.82585276 0.13670659 0.57509333 0.89132195 0.20920212\n",
      " 0.18532822 0.10837689 0.21969749 0.97862378 0.81168315 0.17194101\n",
      " 0.81622475 0.27407375 0.43170418 0.94002982 0.81764938 0.33611195\n",
      " 0.17541045 0.37283205 0.00568851 0.25242635 0.79566251 0.01525497\n",
      " 0.59884338 0.60380454 0.10514769 0.38194344 0.03647606 0.89041156\n",
      " 0.98092086 0.05994199 0.89054594 0.5769015  0.74247969 0.63018394\n",
      " 0.58184219 0.02043913 0.21002658 0.54468488 0.76911517 0.25069523\n",
      " 0.28589569 0.85239509 0.97500649 0.88485329 0.35950784 0.59885895\n",
      " 0.35479561 0.34019022 0.17808099 0.23769421 0.04486228 0.50543143\n",
      " 0.37625245 0.5928054  0.62994188 0.14260031 0.9338413  0.94637988\n",
      " 0.60229666 0.38776628 0.363188   0.20434528 0.27676506 0.24653588\n",
      " 0.173608   0.96660969 0.9570126  0.59797368 0.73130075 0.34038522\n",
      " 0.0920556  0.46349802 0.50869889 0.08846017 0.52803522 0.99215804\n",
      " 0.39503593 0.33559644 0.80545054 0.75434899 0.31306644 0.63403668\n",
      " 0.54040458 0.29679375 0.1107879  0.3126403  0.45697913 0.65894007\n",
      " 0.25425752 0.64110126 0.20012361 0.65762481]\n",
      "[ 0.69012147  0.68689007 -1.56668753  0.90497412  0.7788224   0.42823287\n",
      "  0.10887199  0.02828363 -0.57882582 -1.1994512  -1.70595201  0.36916396\n",
      "  1.87657343 -0.37690335  1.83193608  0.00301743 -0.07602347  0.00395759\n",
      " -0.18501411 -2.48715154 -1.70465121 -1.13626101 -2.97331547  0.03331728\n",
      " -0.24888867 -0.45017644  0.1324278   0.02221393  0.31736798 -0.75241418\n",
      " -1.29639181  0.09513944 -0.4237151  -1.18598356 -0.36546199 -1.27102304\n",
      "  1.58617094  0.69339066 -1.95808123 -0.13480131 -1.54061602  2.04671397\n",
      " -1.39699934 -1.09717198 -0.23871287 -1.4290669   0.94900478 -0.01939759\n",
      "  0.89459771  0.75969312 -1.49772038 -1.19388598  1.29626259  0.95227563\n",
      " -1.21725413 -0.15726517 -1.50758516  0.10788413  0.74705566  0.42967644\n",
      " -1.41504292 -0.64075992  0.7796263  -0.43812092  2.07479317 -0.34329768\n",
      " -0.61662937  0.76318365  0.19291719 -0.34845893  2.29865394 -0.16520955\n",
      "  0.46629937  0.26998724 -0.31983105 -1.1477416   1.70362399 -0.72215077\n",
      "  1.09368665 -0.22951775 -0.00889866 -0.54319801  0.75306219 -1.6094389\n",
      "  1.94326226 -1.44743611  0.13024846  0.94936086 -2.01518872 -0.07954059\n",
      "  0.30104946 -1.68489996  0.22239081 -0.68492174 -0.12620118  1.99027365\n",
      "  0.5229978  -0.0163454  -0.41581634 -1.35850294]\n",
      "[-0.200341    1.05284448  0.30002036 -0.73737297  0.10752734  0.73452396\n",
      " -0.86767721 -0.88573289  0.69927636 -0.57445803 -0.80159733  1.00424065\n",
      "  1.10622904  0.59184272  1.16512293 -0.13360553 -0.9334338   0.88251247\n",
      " -0.93317271  0.73986688  0.24560133 -0.48157644 -1.20834819  0.86049631\n",
      "  0.86728552  0.6716552   0.04897712  1.00210519 -0.92738723  0.0204617\n",
      " -0.71152961 -0.59744078  0.57126849  0.55699648  0.19063851 -0.76253167\n",
      "  0.03902622  0.4371247  -0.8305853  -0.47808325 -1.15294546 -0.52508788\n",
      " -0.63156422  0.01835295  0.94475339 -0.4199959  -0.89789568  0.9980507\n",
      "  1.06413342 -0.72411096 -0.3061662  -0.78139162  0.90210693 -0.48674242\n",
      "  0.66921605  0.82796041  0.74886906  1.00780074  0.35286562  0.00884759\n",
      "  0.56001614 -0.61470162 -0.65075595  0.73701225 -0.19633955 -0.36489758\n",
      " -0.66106097  0.72449328  0.77688312  0.92429197  1.21575814  0.98324218\n",
      "  0.93363175 -0.1812631  -0.29880879 -0.69221188 -0.82274349  0.77081345\n",
      "  0.65605558  0.20439156 -0.05551942  0.47331316 -0.09993473 -0.21019646\n",
      "  0.80705487  0.71408472 -0.92689325 -0.90469059  0.72099282 -0.75404869\n",
      " -0.22104629  0.78859841  0.66346969  0.85504966  0.25440824 -0.6417134\n",
      "  1.051942   -0.7765399   0.90971459 -0.97208793]\n",
      "[0.54340494 0.27836939 0.42451759 0.84477613 0.00471886 0.12156912\n",
      " 0.67074908 0.82585276 0.13670659 0.57509333 0.89132195 0.20920212\n",
      " 0.18532822 0.10837689 0.21969749 0.97862378 0.81168315 0.17194101\n",
      " 0.81622475 0.27407375 0.43170418 0.94002982 0.81764938 0.33611195\n",
      " 0.17541045 0.37283205 0.00568851 0.25242635 0.79566251 0.01525497\n",
      " 0.59884338 0.60380454 0.10514769 0.38194344 0.03647606 0.89041156\n",
      " 0.98092086 0.05994199 0.89054594 0.5769015  0.74247969 0.63018394\n",
      " 0.58184219 0.02043913 0.21002658 0.54468488 0.76911517 0.25069523\n",
      " 0.28589569 0.85239509 0.97500649 0.88485329 0.35950784 0.59885895\n",
      " 0.35479561 0.34019022 0.17808099 0.23769421 0.04486228 0.50543143\n",
      " 0.37625245 0.5928054  0.62994188 0.14260031 0.9338413  0.94637988\n",
      " 0.60229666 0.38776628 0.363188   0.20434528 0.27676506 0.24653588\n",
      " 0.173608   0.96660969 0.9570126  0.59797368 0.73130075 0.34038522\n",
      " 0.0920556  0.46349802 0.50869889 0.08846017 0.52803522 0.99215804\n",
      " 0.39503593 0.33559644 0.80545054 0.75434899 0.31306644 0.63403668\n",
      " 0.54040458 0.29679375 0.1107879  0.3126403  0.45697913 0.65894007\n",
      " 0.25425752 0.64110126 0.20012361 0.65762481]\n"
     ]
    }
   ]
  },
  {
   "cell_type": "code",
   "metadata": {
    "pycharm": {
     "name": "#%%\n"
    },
    "colab": {
     "base_uri": "https://localhost:8080/",
     "height": 329
    },
    "id": "d8JpNl3mdq2u",
    "outputId": "93a11561-9e4f-4571-c02f-0212c8a679b1"
   },
   "source": [
    "np.random.seed(0)\n",
    "polynomial_features= PolynomialFeatures(degree=9)\n",
    "x2_poly = polynomial_features.fit_transform(X2.reshape(100,1))\n",
    "\n",
    "# transforming the data to include another axis\n",
    "x2 = X2[:, np.newaxis]\n",
    "y2= y2[:, np.newaxis]\n",
    "\n",
    "model = LinearRegression()\n",
    "model.fit(x2_poly, y2)\n",
    "y2_poly_pred = model.predict(x2_poly)\n",
    "\n",
    "rmse = np.sqrt(mean_squared_error(y2,y2_poly_pred))\n",
    "r2 = r2_score(y2,y2_poly_pred)\n",
    "print(\"RMSE:\",rmse)\n",
    "print(\"R2:\",r2)\n",
    "\n",
    "plt.scatter(x2, y2, s=10)\n",
    "# sort the values of x before line plot\n",
    "sort_axis = operator.itemgetter(0)\n",
    "sorted_zip = sorted(zip(x2,y2_poly_pred), key=sort_axis)\n",
    "x2, y2_poly_pred = zip(*sorted_zip)\n",
    "plt.plot(x2, y2_poly_pred, color='m')\n",
    "plt.title('When order,M =9')\n",
    "plt.xlabel('X')\n",
    "plt.ylabel('y=sin(2*pi*X)+0.1 * N')\n",
    "plt.show()"
   ],
   "execution_count": 231,
   "outputs": [
    {
     "name": "stdout",
     "output_type": "stream",
     "text": [
      "RMSE: 0.10422445080258333\n",
      "R2: 0.9788493340784026\n"
     ]
    },
    {
     "data": {
      "text/plain": "<Figure size 432x288 with 1 Axes>",
      "image/png": "[encoded data removed]"
     },
     "metadata": {
      "needs_background": "light"
     },
     "output_type": "display_data"
    }
   ]
  },
  {
   "cell_type": "code",
   "metadata": {
    "pycharm": {
     "name": "#%%\n"
    },
    "id": "7_yXGDuTdq2u"
   },
   "source": [
    "def regularizeRidge(alpha):\n",
    "    if alpha < 0: alpha = math.exp(alpha)\n",
    "    else:\n",
    "        print(\"alpha = \",alpha)\n",
    "        if alpha != 0: print(\"ln(alpha) = \", math.log(alpha))\n",
    "    polynomial_features= PolynomialFeatures(degree=9)\n",
    "    x_transformed =  polynomial_features.fit_transform(X2.reshape(100,1))\n",
    "    poly_linear_model = Ridge(alpha = alpha)\n",
    "    poly_linear_model.fit(x_transformed, y2)\n",
    "    return poly_linear_model\n",
    "\n",
    "def chartRidge(alpha):\n",
    "    model = regularizeRidge(alpha)\n",
    "    xx = np.linspace(0, 1, 100)\n",
    "    x_transformed =polynomial_features.fit_transform(xx.reshape(100,1))\n",
    "    yy = model.predict(x_transformed)\n",
    "    plt.plot(xx, yy,label=alpha)\n",
    "    plt.scatter(X_train, y_train)\n",
    "    plt.scatter(X_test, y_test, c = 'r')\n",
    "    plt.legend()"
   ],
   "execution_count": 232,
   "outputs": []
  },
  {
   "cell_type": "code",
   "metadata": {
    "pycharm": {
     "name": "#%%\n"
    },
    "colab": {
     "base_uri": "https://localhost:8080/",
     "height": 299
    },
    "id": "8GNGH3o9dq2u",
    "outputId": "1380a992-ec74-4a67-a701-9ab67c2c7e88"
   },
   "source": [
    "chartRidge(1)"
   ],
   "execution_count": 233,
   "outputs": [
    {
     "name": "stdout",
     "output_type": "stream",
     "text": [
      "alpha =  1\n",
      "ln(alpha) =  0.0\n"
     ]
    },
    {
     "data": {
      "text/plain": "<Figure size 432x288 with 1 Axes>",
      "image/png": "[encoded data removed]"
     },
     "metadata": {
      "needs_background": "light"
     },
     "output_type": "display_data"
    }
   ]
  },
  {
   "cell_type": "code",
   "metadata": {
    "pycharm": {
     "name": "#%%\n"
    },
    "colab": {
     "base_uri": "https://localhost:8080/",
     "height": 299
    },
    "id": "ZDk3rMuqdq2v",
    "outputId": "c4c948b3-bf3d-49bc-8ba2-0fd4f0b06573"
   },
   "source": [
    "chartRidge(0.1)"
   ],
   "execution_count": 234,
   "outputs": [
    {
     "name": "stdout",
     "output_type": "stream",
     "text": [
      "alpha =  0.1\n",
      "ln(alpha) =  -2.3025850929940455\n"
     ]
    },
    {
     "data": {
      "text/plain": "<Figure size 432x288 with 1 Axes>",
      "image/png": "[encoded data removed]"
     },
     "metadata": {
      "needs_background": "light"
     },
     "output_type": "display_data"
    }
   ]
  },
  {
   "cell_type": "code",
   "metadata": {
    "pycharm": {
     "name": "#%%\n"
    },
    "colab": {
     "base_uri": "https://localhost:8080/",
     "height": 299
    },
    "id": "cY-pnTmfdq2v",
    "outputId": "f18adecc-dc6a-44aa-b4fd-4ea98cf1d44c"
   },
   "source": [
    "chartRidge(0.01)"
   ],
   "execution_count": 235,
   "outputs": [
    {
     "name": "stdout",
     "output_type": "stream",
     "text": [
      "alpha =  0.01\n",
      "ln(alpha) =  -4.605170185988091\n"
     ]
    },
    {
     "data": {
      "text/plain": "<Figure size 432x288 with 1 Axes>",
      "image/png": "[encoded data removed]"
     },
     "metadata": {
      "needs_background": "light"
     },
     "output_type": "display_data"
    }
   ]
  },
  {
   "cell_type": "code",
   "metadata": {
    "pycharm": {
     "name": "#%%\n"
    },
    "colab": {
     "base_uri": "https://localhost:8080/",
     "height": 299
    },
    "id": "IeYIqBR0dq2w",
    "outputId": "39414cdd-d349-4daf-ca4b-97fcea672d4b"
   },
   "source": [
    "chartRidge(0.001)"
   ],
   "execution_count": 236,
   "outputs": [
    {
     "name": "stdout",
     "output_type": "stream",
     "text": [
      "alpha =  0.001\n",
      "ln(alpha) =  -6.907755278982137\n"
     ]
    },
    {
     "data": {
      "text/plain": "<Figure size 432x288 with 1 Axes>",
      "image/png": "[encoded data removed]"
     },
     "metadata": {
      "needs_background": "light"
     },
     "output_type": "display_data"
    }
   ]
  },
  {
   "cell_type": "code",
   "metadata": {
    "pycharm": {
     "name": "#%%\n"
    },
    "colab": {
     "base_uri": "https://localhost:8080/",
     "height": 299
    },
    "id": "FZ2xUYR_dq2w",
    "outputId": "472cd1ca-88dc-4eb4-a8ce-997db147eec8"
   },
   "source": [
    "chartRidge(0.0001)"
   ],
   "execution_count": 237,
   "outputs": [
    {
     "name": "stdout",
     "output_type": "stream",
     "text": [
      "alpha =  0.0001\n",
      "ln(alpha) =  -9.210340371976182\n"
     ]
    },
    {
     "data": {
      "text/plain": "<Figure size 432x288 with 1 Axes>",
      "image/png": "[encoded data removed]"
     },
     "metadata": {
      "needs_background": "light"
     },
     "output_type": "display_data"
    }
   ]
  },
  {
   "cell_type": "code",
   "metadata": {
    "pycharm": {
     "name": "#%%\n"
    },
    "colab": {
     "base_uri": "https://localhost:8080/",
     "height": 299
    },
    "id": "Ow7vWFUodq2w",
    "outputId": "b9ae1fa6-e9ef-4c69-c144-b5f3f5adb489"
   },
   "source": [
    "chartRidge(0.00001)"
   ],
   "execution_count": 238,
   "outputs": [
    {
     "name": "stdout",
     "output_type": "stream",
     "text": [
      "alpha =  1e-05\n",
      "ln(alpha) =  -11.512925464970229\n"
     ]
    },
    {
     "data": {
      "text/plain": "<Figure size 432x288 with 1 Axes>",
      "image/png": "[encoded data removed]"
     },
     "metadata": {
      "needs_background": "light"
     },
     "output_type": "display_data"
    }
   ]
  },
  {
   "cell_type": "code",
   "metadata": {
    "pycharm": {
     "name": "#%%\n"
    },
    "id": "0dhgoPVmdq2w"
   },
   "source": [
    "def getMse(Y, yy):\n",
    "    standard = tf.square(Y - yy)\n",
    "    mse = tf.reduce_mean(standard)\n",
    "    return mse.numpy()\n",
    "\n",
    "\n",
    "train_error_ridge = np.zeros(30)\n",
    "test_error_ridge = np.zeros(30)\n",
    "\n",
    "def getErrorRidge(i:int,  model) :     # A new error function\n",
    "    xx_transformed_test = polynomial_features.fit_transform(X_test.reshape(X_test.shape[0], 1))\n",
    "    xx_transformed_train = polynomial_features.fit_transform(X_train.reshape(X_train.shape[0], 1))\n",
    "    yy_test = model.predict(xx_transformed_test)\n",
    "    yy_train = model.predict(xx_transformed_train)\n",
    "    test_error_ridge[i] = getMse(y_test, yy_test)\n",
    "    train_error_ridge[i] = getMse(y_train, yy_train)"
   ],
   "execution_count": 239,
   "outputs": []
  },
  {
   "cell_type": "code",
   "metadata": {
    "pycharm": {
     "name": "#%%\n"
    },
    "id": "I0s1ObBpdq2w"
   },
   "source": [
    "xx = list(range(-30, 0))\n",
    "for i in xx:\n",
    "    model = regularizeRidge(i)\n",
    "    getErrorRidge(i, model)"
   ],
   "execution_count": 240,
   "outputs": []
  },
  {
   "cell_type": "code",
   "metadata": {
    "pycharm": {
     "name": "#%%\n"
    },
    "colab": {
     "base_uri": "https://localhost:8080/",
     "height": 307
    },
    "id": "t5flBA1Vdq2x",
    "outputId": "b88689fb-e252-4a1f-b898-7439bb739701"
   },
   "source": [
    "xx = list(range(-30, 0))\n",
    "plt.plot(xx, test_error_ridge, label = \"$test-error$\", c = 'y')\n",
    "plt.plot(xx, train_error_ridge, label = \"$train-error$\", c = 'r')\n",
    "\n",
    "plt.xlabel('ln(lamdba)')\n",
    "\n",
    "plt.ylabel('Error')\n",
    "plt.legend()"
   ],
   "execution_count": 241,
   "outputs": [
    {
     "data": {
      "text/plain": "<matplotlib.legend.Legend at 0x271bd4d6af0>"
     },
     "execution_count": 241,
     "metadata": {},
     "output_type": "execute_result"
    },
    {
     "data": {
      "text/plain": "<Figure size 432x288 with 1 Axes>",
      "image/png": "[encoded data removed]"
     },
     "metadata": {
      "needs_background": "light"
     },
     "output_type": "display_data"
    }
   ]
  },
  {
   "cell_type": "code",
   "metadata": {
    "pycharm": {
     "name": "#%%\n"
    },
    "colab": {
     "base_uri": "https://localhost:8080/"
    },
    "id": "jcCNFIa_dq2x",
    "outputId": "d58587cb-84f2-40fd-e307-d697c4f9eb73"
   },
   "source": [
    "best_lambda = 0\n",
    "for i in range(-30,0):\n",
    "    if test_error_ridge[i+30] == test_error_ridge.min(): best_lambda = i\n",
    "print(\"best ln(lambda)based on my analysis = \", best_lambda)\n",
    "best_lambda_0 = math.exp(best_lambda)\n",
    "print(\"best lambda = \", best_lambda_0)\n",
    "print(\"In Conclusion of this analysis, the model with input ln(lamdba) = \",best_lambda,\", lambda = \",best_lambda_0,\" will provide best test performance.\")"
   ],
   "execution_count": 243,
   "outputs": [
    {
     "name": "stdout",
     "output_type": "stream",
     "text": [
      "best ln(lambda)based on my analysis =  -1\n",
      "best lambda =  0.36787944117144233\n",
      "In Conclusion of this analysis, the model with input ln(lamdba) =  -1 , lambda =  0.36787944117144233  will provide best test performance.\n"
     ]
    }
   ]
  },
  {
   "cell_type": "code",
   "execution_count": 242,
   "outputs": [],
   "source": [],
   "metadata": {
    "collapsed": false,
    "pycharm": {
     "name": "#%%\n"
    }
   }
  },
  {
   "cell_type": "code",
   "execution_count": 242,
   "outputs": [],
   "source": [],
   "metadata": {
    "collapsed": false,
    "pycharm": {
     "name": "#%%\n"
    }
   }
  }
 ]
}