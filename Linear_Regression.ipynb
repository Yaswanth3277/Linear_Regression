{
  "nbformat": 4,
  "nbformat_minor": 0,
  "metadata": {
    "kernelspec": {
      "display_name": "Python 3",
      "language": "python",
      "name": "python3"
    },
    "language_info": {
      "codemirror_mode": {
        "name": "ipython",
        "version": 2
      },
      "file_extension": ".py",
      "mimetype": "text/x-python",
      "name": "python",
      "nbconvert_exporter": "python",
      "pygments_lexer": "ipython2",
      "version": "2.7.6"
    },
    "colab": {
      "name": "Linear Regression.ipynb",
      "provenance": []
    }
  },
  "cells": [
    {
      "cell_type": "code",
      "metadata": {
        "id": "ubXsoyqXdq2j"
      },
      "source": [
        "import numpy as np\n",
        "import math\n",
        "from sklearn.model_selection import train_test_split\n",
        "from sklearn.linear_model import LinearRegression\n",
        "import matplotlib.pyplot as plt\n",
        "import pandas as pd\n",
        "import operator\n",
        "from sklearn.metrics import mean_squared_error, r2_score\n",
        "from sklearn.preprocessing import PolynomialFeatures\n",
        "import sklearn\n",
        "from sklearn.pipeline import Pipeline\n",
        "from sklearn.linear_model import Ridge\n",
        "import tensorflow as tf"
      ],
      "execution_count": 184,
      "outputs": []
    },
    {
      "cell_type": "code",
      "metadata": {
        "pycharm": {
          "name": "#%%\n"
        },
        "colab": {
          "base_uri": "https://localhost:8080/"
        },
        "id": "Cvw37zFndq2m",
        "outputId": "79413f70-5b77-4138-c9ac-45144e26feac"
      },
      "source": [
        "X = np.random.uniform(0,1,20)\n",
        "X\n"
      ],
      "execution_count": 185,
      "outputs": [
        {
          "output_type": "execute_result",
          "data": {
            "text/plain": [
              "array([0.5488135 , 0.71518937, 0.60276338, 0.54488318, 0.4236548 ,\n",
              "       0.64589411, 0.43758721, 0.891773  , 0.96366276, 0.38344152,\n",
              "       0.79172504, 0.52889492, 0.56804456, 0.92559664, 0.07103606,\n",
              "       0.0871293 , 0.0202184 , 0.83261985, 0.77815675, 0.87001215])"
            ]
          },
          "metadata": {
            "tags": []
          },
          "execution_count": 185
        }
      ]
    },
    {
      "cell_type": "code",
      "metadata": {
        "pycharm": {
          "name": "#%%\n"
        },
        "colab": {
          "base_uri": "https://localhost:8080/"
        },
        "id": "6tUdIFPqdq2m",
        "outputId": "76f56eda-a438-40d8-d90d-cc24cae29b2c"
      },
      "source": [
        "mean = 0\n",
        "s_d = 1\n",
        "N = np.random.normal(mean, s_d, 20)\n",
        "N"
      ],
      "execution_count": 186,
      "outputs": [
        {
          "output_type": "execute_result",
          "data": {
            "text/plain": [
              "array([ 1.49407907, -0.20515826,  0.3130677 , -0.85409574, -2.55298982,\n",
              "        0.6536186 ,  0.8644362 , -0.74216502,  2.26975462, -1.45436567,\n",
              "        0.04575852, -0.18718385,  1.53277921,  1.46935877,  0.15494743,\n",
              "        0.37816252, -0.88778575, -1.98079647, -0.34791215,  0.15634897])"
            ]
          },
          "metadata": {
            "tags": []
          },
          "execution_count": 186
        }
      ]
    },
    {
      "cell_type": "code",
      "metadata": {
        "pycharm": {
          "name": "#%%\n"
        },
        "colab": {
          "base_uri": "https://localhost:8080/",
          "height": 415
        },
        "id": "WqRq2Yu4dq2n",
        "outputId": "91e852fd-b289-40b9-8bac-c171a7afe22c"
      },
      "source": [
        "y=np.sin(2*np.pi*X)+N\n",
        "print(y)\n",
        "print(X)\n",
        "plt.scatter(X,y)\n",
        "plt.xlabel('X')\n",
        "plt.ylabel('y=sin(2*pi*X)+N')\n",
        "plt.show()\n"
      ],
      "execution_count": 187,
      "outputs": [
        {
          "output_type": "stream",
          "text": [
            "[ 1.1921607  -1.18133389 -0.28867505 -1.13238193 -2.09148471 -0.13996717\n",
            "  1.24661332 -1.37096605  2.04341941 -0.78574038 -0.92007232 -0.36774027\n",
            "  1.11814883  1.01871165  0.58660785  0.89867372 -0.76109122 -2.84905465\n",
            " -1.33230363 -0.5725674 ]\n",
            "[0.5488135  0.71518937 0.60276338 0.54488318 0.4236548  0.64589411\n",
            " 0.43758721 0.891773   0.96366276 0.38344152 0.79172504 0.52889492\n",
            " 0.56804456 0.92559664 0.07103606 0.0871293  0.0202184  0.83261985\n",
            " 0.77815675 0.87001215]\n"
          ],
          "name": "stdout"
        },
        {
          "output_type": "display_data",
          "data": {
            "image/png": "[encoded data removed]",
            "text/plain": [
              "<Figure size 432x288 with 1 Axes>"
            ]
          },
          "metadata": {
            "tags": [],
            "needs_background": "light"
          }
        }
      ]
    },
    {
      "cell_type": "code",
      "metadata": {
        "pycharm": {
          "name": "#%%\n"
        },
        "colab": {
          "base_uri": "https://localhost:8080/"
        },
        "id": "zVA3zFUWdq2n",
        "outputId": "c4c70edb-e35f-4995-9da9-50735b9335f4"
      },
      "source": [
        "df = pd.DataFrame({'x':X, 'y':y})\n",
        "print(df)"
      ],
      "execution_count": 188,
      "outputs": [
        {
          "output_type": "stream",
          "text": [
            "           x         y\n",
            "0   0.548814  1.192161\n",
            "1   0.715189 -1.181334\n",
            "2   0.602763 -0.288675\n",
            "3   0.544883 -1.132382\n",
            "4   0.423655 -2.091485\n",
            "5   0.645894 -0.139967\n",
            "6   0.437587  1.246613\n",
            "7   0.891773 -1.370966\n",
            "8   0.963663  2.043419\n",
            "9   0.383442 -0.785740\n",
            "10  0.791725 -0.920072\n",
            "11  0.528895 -0.367740\n",
            "12  0.568045  1.118149\n",
            "13  0.925597  1.018712\n",
            "14  0.071036  0.586608\n",
            "15  0.087129  0.898674\n",
            "16  0.020218 -0.761091\n",
            "17  0.832620 -2.849055\n",
            "18  0.778157 -1.332304\n",
            "19  0.870012 -0.572567\n"
          ],
          "name": "stdout"
        }
      ]
    },
    {
      "cell_type": "code",
      "metadata": {
        "pycharm": {
          "name": "#%%\n"
        },
        "colab": {
          "base_uri": "https://localhost:8080/"
        },
        "id": "ljA_yhY8dq2o",
        "outputId": "d17f4e7c-d057-4f35-d457-ea1ec9504c85"
      },
      "source": [
        "df.train=df[0:10]\n",
        "print(df.train)\n",
        "\n",
        "X_train = df.train.iloc[:,0].values\n",
        "print(X_train)\n",
        "\n",
        "y_train = df.train.iloc[:,1].values\n",
        "print(y_train)"
      ],
      "execution_count": 189,
      "outputs": [
        {
          "output_type": "stream",
          "text": [
            "          x         y\n",
            "0  0.548814  1.192161\n",
            "1  0.715189 -1.181334\n",
            "2  0.602763 -0.288675\n",
            "3  0.544883 -1.132382\n",
            "4  0.423655 -2.091485\n",
            "5  0.645894 -0.139967\n",
            "6  0.437587  1.246613\n",
            "7  0.891773 -1.370966\n",
            "8  0.963663  2.043419\n",
            "9  0.383442 -0.785740\n",
            "[0.5488135  0.71518937 0.60276338 0.54488318 0.4236548  0.64589411\n",
            " 0.43758721 0.891773   0.96366276 0.38344152]\n",
            "[ 1.1921607  -1.18133389 -0.28867505 -1.13238193 -2.09148471 -0.13996717\n",
            "  1.24661332 -1.37096605  2.04341941 -0.78574038]\n"
          ],
          "name": "stdout"
        },
        {
          "output_type": "stream",
          "text": [
            "/usr/local/lib/python3.7/dist-packages/ipykernel_launcher.py:1: UserWarning: Pandas doesn't allow columns to be created via a new attribute name - see https://pandas.pydata.org/pandas-docs/stable/indexing.html#attribute-access\n",
            "  \"\"\"Entry point for launching an IPython kernel.\n"
          ],
          "name": "stderr"
        }
      ]
    },
    {
      "cell_type": "code",
      "metadata": {
        "pycharm": {
          "name": "#%%\n"
        },
        "id": "R05mRq2Idq2o"
      },
      "source": [
        "x = X_train[:, np.newaxis]\n",
        "y = y_train[:, np.newaxis]\n",
        "model = LinearRegression()\n",
        "model.fit(x,y)\n",
        "y_pred = model.predict(x)"
      ],
      "execution_count": 190,
      "outputs": []
    },
    {
      "cell_type": "code",
      "metadata": {
        "pycharm": {
          "name": "#%%\n"
        },
        "colab": {
          "base_uri": "https://localhost:8080/",
          "height": 265
        },
        "id": "x_3X6-4Odq2p",
        "outputId": "6ee599ba-359a-4c11-dbd0-7b6b13eed7a8"
      },
      "source": [
        "plt.scatter(x,y,s=10)\n",
        "plt.plot(x,y_pred, color='r')\n",
        "plt.show()"
      ],
      "execution_count": 191,
      "outputs": [
        {
          "output_type": "display_data",
          "data": {
            "image/png": "[encoded data removed]",
            "text/plain": [
              "<Figure size 432x288 with 1 Axes>"
            ]
          },
          "metadata": {
            "tags": [],
            "needs_background": "light"
          }
        }
      ]
    },
    {
      "cell_type": "code",
      "metadata": {
        "pycharm": {
          "name": "#%%\n"
        },
        "colab": {
          "base_uri": "https://localhost:8080/",
          "height": 363
        },
        "id": "RxEoD-IYdq2p",
        "outputId": "44dfaca8-8d07-4751-8c85-344fa33f43b9"
      },
      "source": [
        "np.random.seed(0)\n",
        "polynomial_features= PolynomialFeatures(degree=0)\n",
        "x_poly = polynomial_features.fit_transform(x)\n",
        "\n",
        "model0 = LinearRegression()\n",
        "model0.fit(x_poly, y)\n",
        "y_poly_pred = model0.predict(x_poly)\n",
        "\n",
        "rmse = np.sqrt(mean_squared_error(y,y_poly_pred))\n",
        "r2 = r2_score(y,y_poly_pred)\n",
        "print(\"RMSE:\",rmse)\n",
        "print(\"R2:\",r2)\n",
        "print('weights:')\n",
        "print(model0.coef_)\n",
        "plt.scatter(x, y, s=10)\n",
        "# sort the values of x before line plot\n",
        "sort_axis = operator.itemgetter(0)\n",
        "sorted_zip = sorted(zip(x,y_poly_pred), key=sort_axis)\n",
        "x, y_poly_pred = zip(*sorted_zip)\n",
        "plt.plot(x, y_poly_pred, color='m')\n",
        "plt.title('When order, M=0')\n",
        "plt.xlabel('X')\n",
        "plt.ylabel('y=sin(2*pi*X)+N')\n",
        "plt.show()"
      ],
      "execution_count": 192,
      "outputs": [
        {
          "output_type": "stream",
          "text": [
            "RMSE: 1.2717577098315476\n",
            "R2: 0.0\n",
            "weights:\n",
            "[[0.]]\n"
          ],
          "name": "stdout"
        },
        {
          "output_type": "display_data",
          "data": {
            "image/png": "[encoded data removed]",
            "text/plain": [
              "<Figure size 432x288 with 1 Axes>"
            ]
          },
          "metadata": {
            "tags": [],
            "needs_background": "light"
          }
        }
      ]
    },
    {
      "cell_type": "code",
      "metadata": {
        "pycharm": {
          "name": "#%%\n"
        },
        "colab": {
          "base_uri": "https://localhost:8080/",
          "height": 346
        },
        "id": "GAcGRFvzdq2p",
        "outputId": "d6c16c08-72e5-40c0-8d6f-680e02026ee5"
      },
      "source": [
        "np.random.seed(0)\n",
        "polynomial_features= PolynomialFeatures(degree=1)\n",
        "x_poly = polynomial_features.fit_transform(x)\n",
        "\n",
        "model1 = LinearRegression()\n",
        "model1.fit(x_poly, y)\n",
        "y_poly_pred = model1.predict(x_poly)\n",
        "\n",
        "rmse = np.sqrt(mean_squared_error(y,y_poly_pred))\n",
        "r2 = r2_score(y,y_poly_pred)\n",
        "print(\"RMSE:\",rmse)\n",
        "print(\"R2:\",r2)\n",
        "print(model1.coef_)\n",
        "plt.scatter(x, y, s=10)\n",
        "# sort the values of x before line plot\n",
        "sort_axis = operator.itemgetter(0)\n",
        "sorted_zip = sorted(zip(x,y_poly_pred), key=sort_axis)\n",
        "x, y_poly_pred = zip(*sorted_zip)\n",
        "plt.plot(x, y_poly_pred, color='m')\n",
        "plt.title('When order, M=1')\n",
        "plt.xlabel('X')\n",
        "plt.ylabel('y=sin(2*pi*X)+N')\n",
        "plt.show()"
      ],
      "execution_count": 193,
      "outputs": [
        {
          "output_type": "stream",
          "text": [
            "RMSE: 1.2516610787428275\n",
            "R2: 0.03135478551851867\n",
            "[[0.         1.22072834]]\n"
          ],
          "name": "stdout"
        },
        {
          "output_type": "display_data",
          "data": {
            "image/png": "[encoded data removed]",
            "text/plain": [
              "<Figure size 432x288 with 1 Axes>"
            ]
          },
          "metadata": {
            "tags": [],
            "needs_background": "light"
          }
        }
      ]
    },
    {
      "cell_type": "code",
      "metadata": {
        "pycharm": {
          "name": "#%%\n"
        },
        "colab": {
          "base_uri": "https://localhost:8080/",
          "height": 346
        },
        "id": "QyE5gdAadq2q",
        "outputId": "df6e581d-6f06-4603-bdcf-c4443d73a4fb"
      },
      "source": [
        "np.random.seed(0)\n",
        "polynomial_features= PolynomialFeatures(degree=3)\n",
        "x_poly = polynomial_features.fit_transform(x)\n",
        "\n",
        "model3 = LinearRegression()\n",
        "model3.fit(x_poly, y)\n",
        "y_poly_pred = model3.predict(x_poly)\n",
        "\n",
        "rmse = np.sqrt(mean_squared_error(y,y_poly_pred))\n",
        "r2 = r2_score(y,y_poly_pred)\n",
        "print(\"RMSE:\",rmse)\n",
        "print(\"R2:\",r2)\n",
        "print(model3.coef_)\n",
        "\n",
        "plt.scatter(x, y, s=10)\n",
        "# sort the values of x before line plot\n",
        "sort_axis = operator.itemgetter(0)\n",
        "sorted_zip = sorted(zip(x,y_poly_pred), key=sort_axis)\n",
        "x, y_poly_pred = zip(*sorted_zip)\n",
        "plt.plot(x, y_poly_pred, color='m')\n",
        "plt.title('When order, M=3')\n",
        "plt.xlabel('X')\n",
        "plt.ylabel('y=sin(2*pi*X)+N')\n",
        "plt.show()"
      ],
      "execution_count": 194,
      "outputs": [
        {
          "output_type": "stream",
          "text": [
            "RMSE: 0.9725937278786397\n",
            "R2: 0.4151369688022982\n",
            "[[   0.         -248.15464422  387.55479061 -191.01406685]]\n"
          ],
          "name": "stdout"
        },
        {
          "output_type": "display_data",
          "data": {
            "image/png": "[encoded data removed]",
            "text/plain": [
              "<Figure size 432x288 with 1 Axes>"
            ]
          },
          "metadata": {
            "tags": [],
            "needs_background": "light"
          }
        }
      ]
    },
    {
      "cell_type": "code",
      "metadata": {
        "pycharm": {
          "name": "#%%\n"
        },
        "colab": {
          "base_uri": "https://localhost:8080/",
          "height": 380
        },
        "id": "NYzdvX5Cdq2q",
        "outputId": "2633ff5b-809e-49aa-b4c9-505156c806d0"
      },
      "source": [
        "np.random.seed(0)\n",
        "polynomial_features= PolynomialFeatures(degree=9)\n",
        "x_poly = polynomial_features.fit_transform(x)\n",
        "\n",
        "model9 = LinearRegression()\n",
        "model9.fit(x_poly, y)\n",
        "y_poly_pred = model9.predict(x_poly)\n",
        "\n",
        "rmse = np.sqrt(mean_squared_error(y,y_poly_pred))\n",
        "r2 = r2_score(y,y_poly_pred)\n",
        "print(\"RMSE:\",rmse)\n",
        "print(\"R2:\",r2)\n",
        "print(model9.coef_)\n",
        "\n",
        "plt.scatter(x, y, s=10)\n",
        "# sort the values of x before line plot\n",
        "sort_axis = operator.itemgetter(0)\n",
        "sorted_zip = sorted(zip(x,y_poly_pred), key=sort_axis)\n",
        "x, y_poly_pred = zip(*sorted_zip)\n",
        "plt.plot(x, y_poly_pred, color='m')\n",
        "plt.title('When order,M =9')\n",
        "plt.xlabel('X')\n",
        "plt.ylabel('y=sin(2*pi*X)+N')\n",
        "plt.show()"
      ],
      "execution_count": 195,
      "outputs": [
        {
          "output_type": "stream",
          "text": [
            "RMSE: 1.1059584422755567e-06\n",
            "R2: 0.9999999999992437\n",
            "[[ 0.00000000e+00  1.18595932e+08 -8.27948784e+08  3.33303727e+09\n",
            "  -8.52528227e+09  1.43662710e+10 -1.59475611e+10  1.12439829e+10\n",
            "  -4.56863443e+09  8.15015880e+08]]\n"
          ],
          "name": "stdout"
        },
        {
          "output_type": "display_data",
          "data": {
            "image/png": "[encoded data removed]",
            "text/plain": [
              "<Figure size 432x288 with 1 Axes>"
            ]
          },
          "metadata": {
            "tags": [],
            "needs_background": "light"
          }
        }
      ]
    },
    {
      "cell_type": "code",
      "metadata": {
        "pycharm": {
          "name": "#%%\n"
        },
        "colab": {
          "base_uri": "https://localhost:8080/"
        },
        "id": "HNEWL_9tdq2q",
        "outputId": "acfb90c6-bf83-4886-f576-f5c1bce3ae06"
      },
      "source": [
        "print(model0.coef_)\n",
        "print(model1.coef_)\n",
        "print(model3.coef_)\n",
        "print(model9.coef_)"
      ],
      "execution_count": 196,
      "outputs": [
        {
          "output_type": "stream",
          "text": [
            "[[0.]]\n",
            "[[0.         1.22072834]]\n",
            "[[   0.         -248.15464422  387.55479061 -191.01406685]]\n",
            "[[ 0.00000000e+00  1.18595932e+08 -8.27948784e+08  3.33303727e+09\n",
            "  -8.52528227e+09  1.43662710e+10 -1.59475611e+10  1.12439829e+10\n",
            "  -4.56863443e+09  8.15015880e+08]]\n"
          ],
          "name": "stdout"
        }
      ]
    },
    {
      "cell_type": "code",
      "metadata": {
        "pycharm": {
          "name": "#%%\n"
        },
        "colab": {
          "base_uri": "https://localhost:8080/",
          "height": 430
        },
        "id": "_auZC815dq2q",
        "outputId": "1d508d76-4301-4fac-a849-6bdd506c6dd8"
      },
      "source": [
        "data = {'M=0':[0,\"\",\"\",\"\",\"\",\"\",\"\",\"\",\"\",\"\" ],'M=1':[0,1.22072834,\"\",\"\",\"\",\"\",\"\",\"\",\"\",\"\"],'M=3':[0,-248.15464422,387.55479061,-191.01406685,\"\",\"\",\"\",\"\",\"\",\"\"],'M=9':[ 0,118595932,-827948784,3333037270,\n",
        "   -8525282270, 14366271000,-15947561100,11243982900,-4568634430,815015880]}\n",
        "print(data)\n",
        "\n",
        "df.w = pd.DataFrame(data, index =['w0', 'w1', 'w2', 'w3', 'w4', 'w5', 'w6', 'w7', 'w8', 'w9'])\n",
        "\n",
        "df.w"
      ],
      "execution_count": 197,
      "outputs": [
        {
          "output_type": "stream",
          "text": [
            "{'M=0': [0, '', '', '', '', '', '', '', '', ''], 'M=1': [0, 1.22072834, '', '', '', '', '', '', '', ''], 'M=3': [0, -248.15464422, 387.55479061, -191.01406685, '', '', '', '', '', ''], 'M=9': [0, 118595932, -827948784, 3333037270, -8525282270, 14366271000, -15947561100, 11243982900, -4568634430, 815015880]}\n"
          ],
          "name": "stdout"
        },
        {
          "output_type": "stream",
          "text": [
            "/usr/local/lib/python3.7/dist-packages/ipykernel_launcher.py:5: UserWarning: Pandas doesn't allow columns to be created via a new attribute name - see https://pandas.pydata.org/pandas-docs/stable/indexing.html#attribute-access\n",
            "  \"\"\"\n"
          ],
          "name": "stderr"
        },
        {
          "output_type": "execute_result",
          "data": {
            "text/html": [
              "<div>\n",
              "<style scoped>\n",
              "    .dataframe tbody tr th:only-of-type {\n",
              "        vertical-align: middle;\n",
              "    }\n",
              "\n",
              "    .dataframe tbody tr th {\n",
              "        vertical-align: top;\n",
              "    }\n",
              "\n",
              "    .dataframe thead th {\n",
              "        text-align: right;\n",
              "    }\n",
              "</style>\n",
              "<table border=\"1\" class=\"dataframe\">\n",
              "  <thead>\n",
              "    <tr style=\"text-align: right;\">\n",
              "      <th></th>\n",
              "      <th>M=0</th>\n",
              "      <th>M=1</th>\n",
              "      <th>M=3</th>\n",
              "      <th>M=9</th>\n",
              "    </tr>\n",
              "  </thead>\n",
              "  <tbody>\n",
              "    <tr>\n",
              "      <th>w0</th>\n",
              "      <td>0</td>\n",
              "      <td>0</td>\n",
              "      <td>0</td>\n",
              "      <td>0</td>\n",
              "    </tr>\n",
              "    <tr>\n",
              "      <th>w1</th>\n",
              "      <td></td>\n",
              "      <td>1.22073</td>\n",
              "      <td>-248.155</td>\n",
              "      <td>118595932</td>\n",
              "    </tr>\n",
              "    <tr>\n",
              "      <th>w2</th>\n",
              "      <td></td>\n",
              "      <td></td>\n",
              "      <td>387.555</td>\n",
              "      <td>-827948784</td>\n",
              "    </tr>\n",
              "    <tr>\n",
              "      <th>w3</th>\n",
              "      <td></td>\n",
              "      <td></td>\n",
              "      <td>-191.014</td>\n",
              "      <td>3333037270</td>\n",
              "    </tr>\n",
              "    <tr>\n",
              "      <th>w4</th>\n",
              "      <td></td>\n",
              "      <td></td>\n",
              "      <td></td>\n",
              "      <td>-8525282270</td>\n",
              "    </tr>\n",
              "    <tr>\n",
              "      <th>w5</th>\n",
              "      <td></td>\n",
              "      <td></td>\n",
              "      <td></td>\n",
              "      <td>14366271000</td>\n",
              "    </tr>\n",
              "    <tr>\n",
              "      <th>w6</th>\n",
              "      <td></td>\n",
              "      <td></td>\n",
              "      <td></td>\n",
              "      <td>-15947561100</td>\n",
              "    </tr>\n",
              "    <tr>\n",
              "      <th>w7</th>\n",
              "      <td></td>\n",
              "      <td></td>\n",
              "      <td></td>\n",
              "      <td>11243982900</td>\n",
              "    </tr>\n",
              "    <tr>\n",
              "      <th>w8</th>\n",
              "      <td></td>\n",
              "      <td></td>\n",
              "      <td></td>\n",
              "      <td>-4568634430</td>\n",
              "    </tr>\n",
              "    <tr>\n",
              "      <th>w9</th>\n",
              "      <td></td>\n",
              "      <td></td>\n",
              "      <td></td>\n",
              "      <td>815015880</td>\n",
              "    </tr>\n",
              "  </tbody>\n",
              "</table>\n",
              "</div>"
            ],
            "text/plain": [
              "   M=0      M=1      M=3          M=9\n",
              "w0   0        0        0            0\n",
              "w1      1.22073 -248.155    118595932\n",
              "w2               387.555   -827948784\n",
              "w3              -191.014   3333037270\n",
              "w4                        -8525282270\n",
              "w5                        14366271000\n",
              "w6                       -15947561100\n",
              "w7                        11243982900\n",
              "w8                        -4568634430\n",
              "w9                          815015880"
            ]
          },
          "metadata": {
            "tags": []
          },
          "execution_count": 197
        }
      ]
    },
    {
      "cell_type": "code",
      "metadata": {
        "pycharm": {
          "name": "#%%\n"
        },
        "colab": {
          "base_uri": "https://localhost:8080/"
        },
        "id": "HkGFF8B7dq2r",
        "outputId": "9e9333e5-1483-43bf-edfb-f0f1cf6c4b84"
      },
      "source": [
        "train_rmse = []\n",
        "for m in range(0,10):\n",
        "    np.random.seed(0)\n",
        "    polynomial_features= PolynomialFeatures(degree=(m))\n",
        "    x_poly = polynomial_features.fit_transform(x)\n",
        "\n",
        "    model0 = LinearRegression()\n",
        "    model0.fit(x_poly, y)\n",
        "    y_poly_pred = model0.predict(x_poly)\n",
        "\n",
        "    rmse = np.sqrt(mean_squared_error(y,y_poly_pred))\n",
        "    r2 = r2_score(y,y_poly_pred)\n",
        "    print(\"RMSE:\",rmse)\n",
        "    train_rmse.append(rmse)"
      ],
      "execution_count": 198,
      "outputs": [
        {
          "output_type": "stream",
          "text": [
            "RMSE: 1.2717577098315476\n",
            "RMSE: 1.2516610787428275\n",
            "RMSE: 1.223608775076313\n",
            "RMSE: 0.9725937278786397\n",
            "RMSE: 0.9714749747422653\n",
            "RMSE: 0.8162029262453139\n",
            "RMSE: 0.48995687937019017\n",
            "RMSE: 0.24535084756015582\n",
            "RMSE: 0.20965838656772892\n",
            "RMSE: 1.1059584422755567e-06\n"
          ],
          "name": "stdout"
        }
      ]
    },
    {
      "cell_type": "code",
      "metadata": {
        "pycharm": {
          "name": "#%%\n"
        },
        "colab": {
          "base_uri": "https://localhost:8080/"
        },
        "id": "HGVTsoRLdq2r",
        "outputId": "db8575f2-c8b7-4e1f-fdd9-9759778ad13f"
      },
      "source": [
        "df.test=df[10:19]\n",
        "print(df.test)"
      ],
      "execution_count": 199,
      "outputs": [
        {
          "output_type": "stream",
          "text": [
            "           x         y\n",
            "10  0.791725 -0.920072\n",
            "11  0.528895 -0.367740\n",
            "12  0.568045  1.118149\n",
            "13  0.925597  1.018712\n",
            "14  0.071036  0.586608\n",
            "15  0.087129  0.898674\n",
            "16  0.020218 -0.761091\n",
            "17  0.832620 -2.849055\n",
            "18  0.778157 -1.332304\n"
          ],
          "name": "stdout"
        },
        {
          "output_type": "stream",
          "text": [
            "/usr/local/lib/python3.7/dist-packages/ipykernel_launcher.py:1: UserWarning: Pandas doesn't allow columns to be created via a new attribute name - see https://pandas.pydata.org/pandas-docs/stable/indexing.html#attribute-access\n",
            "  \"\"\"Entry point for launching an IPython kernel.\n"
          ],
          "name": "stderr"
        }
      ]
    },
    {
      "cell_type": "code",
      "metadata": {
        "pycharm": {
          "name": "#%%\n"
        },
        "colab": {
          "base_uri": "https://localhost:8080/"
        },
        "id": "b2bEIqQ1dq2r",
        "outputId": "786bf708-dee9-499f-a35c-0f13f2301aef"
      },
      "source": [
        "Xt= df.test.iloc[:,1].values\n",
        "print(Xt)"
      ],
      "execution_count": 200,
      "outputs": [
        {
          "output_type": "stream",
          "text": [
            "[-0.92007232 -0.36774027  1.11814883  1.01871165  0.58660785  0.89867372\n",
            " -0.76109122 -2.84905465 -1.33230363]\n"
          ],
          "name": "stdout"
        }
      ]
    },
    {
      "cell_type": "code",
      "metadata": {
        "pycharm": {
          "name": "#%%\n"
        },
        "colab": {
          "base_uri": "https://localhost:8080/"
        },
        "id": "mmjxD9HYdq2r",
        "outputId": "557a2704-73d5-47f0-a0ba-90b9596e985d"
      },
      "source": [
        "yt = df.test.iloc[:,1].values\n",
        "print(yt)"
      ],
      "execution_count": 201,
      "outputs": [
        {
          "output_type": "stream",
          "text": [
            "[-0.92007232 -0.36774027  1.11814883  1.01871165  0.58660785  0.89867372\n",
            " -0.76109122 -2.84905465 -1.33230363]\n"
          ],
          "name": "stdout"
        }
      ]
    },
    {
      "cell_type": "code",
      "metadata": {
        "pycharm": {
          "name": "#%%\n"
        },
        "id": "xZzZWqUhdq2s"
      },
      "source": [
        "x = Xt[:, np.newaxis]\n",
        "y = yt[:, np.newaxis]"
      ],
      "execution_count": 202,
      "outputs": []
    },
    {
      "cell_type": "code",
      "metadata": {
        "pycharm": {
          "name": "#%%\n"
        },
        "colab": {
          "base_uri": "https://localhost:8080/"
        },
        "id": "qP7EUoL0dq2s",
        "outputId": "76f61733-eb1a-412b-86ff-e6b30dcbd8d9"
      },
      "source": [
        "test_rmse = []\n",
        "for m in range(0,10):\n",
        "    np.random.seed(0)\n",
        "    polynomial_features= PolynomialFeatures(degree=(m))\n",
        "    x_poly = polynomial_features.fit_transform(x)\n",
        "\n",
        "    model0 = LinearRegression()\n",
        "    model0.fit(x_poly, y)\n",
        "    y_poly_pred = model0.predict(x_poly)\n",
        "\n",
        "    rmse = np.sqrt(mean_squared_error(y,y_poly_pred))\n",
        "    r2 = r2_score(y,y_poly_pred)\n",
        "    print(\"RMSE:\",rmse)\n",
        "    test_rmse.append(rmse)"
      ],
      "execution_count": 203,
      "outputs": [
        {
          "output_type": "stream",
          "text": [
            "RMSE: 1.2533118179082696\n",
            "RMSE: 8.457231124323202e-16\n",
            "RMSE: 7.39222918264492e-16\n",
            "RMSE: 1.2947314098277875e-15\n",
            "RMSE: 2.6429241985327625e-15\n",
            "RMSE: 5.506558220156971e-15\n",
            "RMSE: 6.343834181149101e-15\n",
            "RMSE: 3.81497467223144e-14\n",
            "RMSE: 8.705856517067538e-14\n",
            "RMSE: 3.5942702402611056e-14\n"
          ],
          "name": "stdout"
        }
      ]
    },
    {
      "cell_type": "code",
      "metadata": {
        "pycharm": {
          "name": "#%%\n"
        },
        "colab": {
          "base_uri": "https://localhost:8080/",
          "height": 396
        },
        "id": "cQOBMBRGdq2s",
        "outputId": "42e7e4b2-6ec6-4d5b-8d98-3be122c8f7ba"
      },
      "source": [
        "# intialise data of lists.\n",
        "data1 = {'M':[0,1,2,3,4,5,6,7,8,9],'Train.RMSE':train_rmse,'Test.RMSE':test_rmse}\n",
        "print(data)\n",
        "# Creates pandas DataFrame.\n",
        "df1 = pd.DataFrame(data1)\n",
        "\n",
        "# print the data\n",
        "df1"
      ],
      "execution_count": 204,
      "outputs": [
        {
          "output_type": "stream",
          "text": [
            "{'M=0': [0, '', '', '', '', '', '', '', '', ''], 'M=1': [0, 1.22072834, '', '', '', '', '', '', '', ''], 'M=3': [0, -248.15464422, 387.55479061, -191.01406685, '', '', '', '', '', ''], 'M=9': [0, 118595932, -827948784, 3333037270, -8525282270, 14366271000, -15947561100, 11243982900, -4568634430, 815015880]}\n"
          ],
          "name": "stdout"
        },
        {
          "output_type": "execute_result",
          "data": {
            "text/html": [
              "<div>\n",
              "<style scoped>\n",
              "    .dataframe tbody tr th:only-of-type {\n",
              "        vertical-align: middle;\n",
              "    }\n",
              "\n",
              "    .dataframe tbody tr th {\n",
              "        vertical-align: top;\n",
              "    }\n",
              "\n",
              "    .dataframe thead th {\n",
              "        text-align: right;\n",
              "    }\n",
              "</style>\n",
              "<table border=\"1\" class=\"dataframe\">\n",
              "  <thead>\n",
              "    <tr style=\"text-align: right;\">\n",
              "      <th></th>\n",
              "      <th>M</th>\n",
              "      <th>Train.RMSE</th>\n",
              "      <th>Test.RMSE</th>\n",
              "    </tr>\n",
              "  </thead>\n",
              "  <tbody>\n",
              "    <tr>\n",
              "      <th>0</th>\n",
              "      <td>0</td>\n",
              "      <td>1.271758</td>\n",
              "      <td>1.253312e+00</td>\n",
              "    </tr>\n",
              "    <tr>\n",
              "      <th>1</th>\n",
              "      <td>1</td>\n",
              "      <td>1.251661</td>\n",
              "      <td>8.457231e-16</td>\n",
              "    </tr>\n",
              "    <tr>\n",
              "      <th>2</th>\n",
              "      <td>2</td>\n",
              "      <td>1.223609</td>\n",
              "      <td>7.392229e-16</td>\n",
              "    </tr>\n",
              "    <tr>\n",
              "      <th>3</th>\n",
              "      <td>3</td>\n",
              "      <td>0.972594</td>\n",
              "      <td>1.294731e-15</td>\n",
              "    </tr>\n",
              "    <tr>\n",
              "      <th>4</th>\n",
              "      <td>4</td>\n",
              "      <td>0.971475</td>\n",
              "      <td>2.642924e-15</td>\n",
              "    </tr>\n",
              "    <tr>\n",
              "      <th>5</th>\n",
              "      <td>5</td>\n",
              "      <td>0.816203</td>\n",
              "      <td>5.506558e-15</td>\n",
              "    </tr>\n",
              "    <tr>\n",
              "      <th>6</th>\n",
              "      <td>6</td>\n",
              "      <td>0.489957</td>\n",
              "      <td>6.343834e-15</td>\n",
              "    </tr>\n",
              "    <tr>\n",
              "      <th>7</th>\n",
              "      <td>7</td>\n",
              "      <td>0.245351</td>\n",
              "      <td>3.814975e-14</td>\n",
              "    </tr>\n",
              "    <tr>\n",
              "      <th>8</th>\n",
              "      <td>8</td>\n",
              "      <td>0.209658</td>\n",
              "      <td>8.705857e-14</td>\n",
              "    </tr>\n",
              "    <tr>\n",
              "      <th>9</th>\n",
              "      <td>9</td>\n",
              "      <td>0.000001</td>\n",
              "      <td>3.594270e-14</td>\n",
              "    </tr>\n",
              "  </tbody>\n",
              "</table>\n",
              "</div>"
            ],
            "text/plain": [
              "   M  Train.RMSE     Test.RMSE\n",
              "0  0    1.271758  1.253312e+00\n",
              "1  1    1.251661  8.457231e-16\n",
              "2  2    1.223609  7.392229e-16\n",
              "3  3    0.972594  1.294731e-15\n",
              "4  4    0.971475  2.642924e-15\n",
              "5  5    0.816203  5.506558e-15\n",
              "6  6    0.489957  6.343834e-15\n",
              "7  7    0.245351  3.814975e-14\n",
              "8  8    0.209658  8.705857e-14\n",
              "9  9    0.000001  3.594270e-14"
            ]
          },
          "metadata": {
            "tags": []
          },
          "execution_count": 204
        }
      ]
    },
    {
      "cell_type": "code",
      "metadata": {
        "pycharm": {
          "name": "#%%\n"
        },
        "colab": {
          "base_uri": "https://localhost:8080/",
          "height": 283
        },
        "id": "OTkLuxLfdq2s",
        "outputId": "2d67712a-d02d-402c-d987-c2a49f93a8c3"
      },
      "source": [
        "plt.plot( 'M', 'Train.RMSE', data=df1, marker='o', markerfacecolor='red', markersize=12, color='skyblue', linewidth=4)\n",
        "plt.plot( 'M', 'Test.RMSE', data=df1, marker='o',markerfacecolor='blue',markersize=12, color='olive', linewidth=4)\n",
        "plt.legend()\n",
        "plt.ylabel('RMSE')\n",
        "plt.xlabel('M')\n",
        "plt.ylim((0,2))\n",
        "plt.xlim((0,9))\n",
        "plt.show()"
      ],
      "execution_count": 205,
      "outputs": [
        {
          "output_type": "display_data",
          "data": {
            "image/png": "[encoded data removed]",
            "text/plain": [
              "<Figure size 432x288 with 1 Axes>"
            ]
          },
          "metadata": {
            "tags": [],
            "needs_background": "light"
          }
        }
      ]
    },
    {
      "cell_type": "code",
      "metadata": {
        "pycharm": {
          "name": "#%%\n"
        },
        "colab": {
          "base_uri": "https://localhost:8080/"
        },
        "id": "nNZTGbHpdq2t",
        "outputId": "6f159c2a-9b0f-4b8a-870d-f87c070444c2"
      },
      "source": [
        "np.random.seed(100)\n",
        "X2 = np.random.uniform(0,1,120)\n",
        "print(X2)\n",
        "mean, s_d = 0, 1 # mean and standard deviation\n",
        "N = np.random.normal(mean, s_d, 120)\n",
        "print(N)\n",
        "import matplotlib.pyplot as plt\n",
        "y2=np.sin(2*np.pi*X2)+N\n",
        "print(y2)\n",
        "print(X2)"
      ],
      "execution_count": 208,
      "outputs": [
        {
          "output_type": "stream",
          "text": [
            "[0.54340494 0.27836939 0.42451759 0.84477613 0.00471886 0.12156912\n",
            " 0.67074908 0.82585276 0.13670659 0.57509333 0.89132195 0.20920212\n",
            " 0.18532822 0.10837689 0.21969749 0.97862378 0.81168315 0.17194101\n",
            " 0.81622475 0.27407375 0.43170418 0.94002982 0.81764938 0.33611195\n",
            " 0.17541045 0.37283205 0.00568851 0.25242635 0.79566251 0.01525497\n",
            " 0.59884338 0.60380454 0.10514769 0.38194344 0.03647606 0.89041156\n",
            " 0.98092086 0.05994199 0.89054594 0.5769015  0.74247969 0.63018394\n",
            " 0.58184219 0.02043913 0.21002658 0.54468488 0.76911517 0.25069523\n",
            " 0.28589569 0.85239509 0.97500649 0.88485329 0.35950784 0.59885895\n",
            " 0.35479561 0.34019022 0.17808099 0.23769421 0.04486228 0.50543143\n",
            " 0.37625245 0.5928054  0.62994188 0.14260031 0.9338413  0.94637988\n",
            " 0.60229666 0.38776628 0.363188   0.20434528 0.27676506 0.24653588\n",
            " 0.173608   0.96660969 0.9570126  0.59797368 0.73130075 0.34038522\n",
            " 0.0920556  0.46349802 0.50869889 0.08846017 0.52803522 0.99215804\n",
            " 0.39503593 0.33559644 0.80545054 0.75434899 0.31306644 0.63403668\n",
            " 0.54040458 0.29679375 0.1107879  0.3126403  0.45697913 0.65894007\n",
            " 0.25425752 0.64110126 0.20012361 0.65762481 0.77828922 0.7795984\n",
            " 0.61032815 0.30900035 0.69773491 0.8596183  0.62532376 0.98240783\n",
            " 0.97650013 0.16669413 0.02317814 0.16074455 0.92349683 0.95354985\n",
            " 0.21097842 0.36052525 0.54937526 0.27183085 0.46060162 0.69616156]\n",
            "[ 1.83193608  0.00301743 -0.07602347  0.00395759 -0.18501411 -2.48715154\n",
            " -1.70465121 -1.13626101 -2.97331547  0.03331728 -0.24888867 -0.45017644\n",
            "  0.1324278   0.02221393  0.31736798 -0.75241418 -1.29639181  0.09513944\n",
            " -0.4237151  -1.18598356 -0.36546199 -1.27102304  1.58617094  0.69339066\n",
            " -1.95808123 -0.13480131 -1.54061602  2.04671397 -1.39699934 -1.09717198\n",
            " -0.23871287 -1.4290669   0.94900478 -0.01939759  0.89459771  0.75969312\n",
            " -1.49772038 -1.19388598  1.29626259  0.95227563 -1.21725413 -0.15726517\n",
            " -1.50758516  0.10788413  0.74705566  0.42967644 -1.41504292 -0.64075992\n",
            "  0.7796263  -0.43812092  2.07479317 -0.34329768 -0.61662937  0.76318365\n",
            "  0.19291719 -0.34845893  2.29865394 -0.16520955  0.46629937  0.26998724\n",
            " -0.31983105 -1.1477416   1.70362399 -0.72215077  1.09368665 -0.22951775\n",
            " -0.00889866 -0.54319801  0.75306219 -1.6094389   1.94326226 -1.44743611\n",
            "  0.13024846  0.94936086 -2.01518872 -0.07954059  0.30104946 -1.68489996\n",
            "  0.22239081 -0.68492174 -0.12620118  1.99027365  0.5229978  -0.0163454\n",
            " -0.41581634 -1.35850294 -0.51442989 -0.21606012  0.42238022 -1.09404293\n",
            "  1.23690789 -0.23028468 -0.7044182  -0.59137512  0.73699517  0.43586725\n",
            "  1.77599359  0.51307438  1.17052698  2.07771223 -0.45592202  0.64917293\n",
            " -0.17478155  1.01726434 -0.59998304  1.57616672  0.60442354 -0.90703042\n",
            "  0.59202327 -0.43706442  0.10177577  1.30834683  1.38760181 -1.73539115\n",
            "  0.28837742 -0.33908543  0.52736913 -0.37430288  0.4770923  -1.42976266]\n",
            "[ 1.56258293  0.9871729   0.38066564 -0.82391279 -0.15536901 -1.79545086\n",
            " -2.58321561 -2.02482226 -2.21615654 -0.42119564 -0.87989079  0.51714782\n",
            "  1.0509995   0.65174698  1.2992973  -0.88632145 -2.22222326  0.97725615\n",
            " -1.3383864  -0.19740154  0.05060446 -1.63897338  0.6751543   1.55055524\n",
            " -1.06590685  0.58187154 -1.50488169  3.04659776 -2.35612337 -1.00146887\n",
            " -0.8206033  -2.03602162  1.56264478  0.65619725  1.12178242  0.12426375\n",
            " -1.61731126 -0.82610035  0.66148541  0.4876725  -2.21613799 -0.88702444\n",
            " -1.99944944  0.23595428  1.71568033  0.15258723 -2.40783908  0.35923054\n",
            "  1.75429995 -1.23820119  1.918399   -1.00530071  0.1558513   0.18121366\n",
            "  0.98385865  0.49522799  3.19828151  0.83180278  0.74445942  0.23586718\n",
            "  0.38168939 -1.69836723  0.97490541  0.05867357  0.68986779 -0.56008556\n",
            " -0.60829669  0.1049769   1.51065359 -0.65030103  2.92915501 -0.44767298\n",
            "  1.01725027  0.74109904 -2.28201441 -0.6569783  -0.69205642 -0.84187144\n",
            "  0.76907773 -0.4575784  -0.18083073  2.51790661  0.34775685 -0.06559798\n",
            "  0.19691231 -0.49967461 -1.45434799 -1.2156868   1.34489191 -1.84013756\n",
            "  0.98575664  0.72680372 -0.06318759  0.33216671  1.00402353 -0.40487351\n",
            "  2.7756358  -0.26183098  2.12182321  1.2414746  -1.44016668 -0.33358402\n",
            " -0.81379287  1.94933466 -1.54654546  0.80412695 -0.1041202  -1.01734034\n",
            "  0.44490515  0.42904726  0.24689406  2.15517217  0.92521637 -2.02312033\n",
            "  1.25847111  0.42931996  0.22208774  0.61630443  0.72211908 -2.37309057]\n",
            "[0.54340494 0.27836939 0.42451759 0.84477613 0.00471886 0.12156912\n",
            " 0.67074908 0.82585276 0.13670659 0.57509333 0.89132195 0.20920212\n",
            " 0.18532822 0.10837689 0.21969749 0.97862378 0.81168315 0.17194101\n",
            " 0.81622475 0.27407375 0.43170418 0.94002982 0.81764938 0.33611195\n",
            " 0.17541045 0.37283205 0.00568851 0.25242635 0.79566251 0.01525497\n",
            " 0.59884338 0.60380454 0.10514769 0.38194344 0.03647606 0.89041156\n",
            " 0.98092086 0.05994199 0.89054594 0.5769015  0.74247969 0.63018394\n",
            " 0.58184219 0.02043913 0.21002658 0.54468488 0.76911517 0.25069523\n",
            " 0.28589569 0.85239509 0.97500649 0.88485329 0.35950784 0.59885895\n",
            " 0.35479561 0.34019022 0.17808099 0.23769421 0.04486228 0.50543143\n",
            " 0.37625245 0.5928054  0.62994188 0.14260031 0.9338413  0.94637988\n",
            " 0.60229666 0.38776628 0.363188   0.20434528 0.27676506 0.24653588\n",
            " 0.173608   0.96660969 0.9570126  0.59797368 0.73130075 0.34038522\n",
            " 0.0920556  0.46349802 0.50869889 0.08846017 0.52803522 0.99215804\n",
            " 0.39503593 0.33559644 0.80545054 0.75434899 0.31306644 0.63403668\n",
            " 0.54040458 0.29679375 0.1107879  0.3126403  0.45697913 0.65894007\n",
            " 0.25425752 0.64110126 0.20012361 0.65762481 0.77828922 0.7795984\n",
            " 0.61032815 0.30900035 0.69773491 0.8596183  0.62532376 0.98240783\n",
            " 0.97650013 0.16669413 0.02317814 0.16074455 0.92349683 0.95354985\n",
            " 0.21097842 0.36052525 0.54937526 0.27183085 0.46060162 0.69616156]\n"
          ],
          "name": "stdout"
        }
      ]
    },
    {
      "cell_type": "code",
      "metadata": {
        "pycharm": {
          "name": "#%%\n"
        },
        "colab": {
          "base_uri": "https://localhost:8080/",
          "height": 329
        },
        "id": "d8JpNl3mdq2u",
        "outputId": "93a11561-9e4f-4571-c02f-0212c8a679b1"
      },
      "source": [
        "np.random.seed(0)\n",
        "polynomial_features= PolynomialFeatures(degree=9)\n",
        "x2_poly = polynomial_features.fit_transform(X2.reshape(120,1))\n",
        "\n",
        "# transforming the data to include another axis\n",
        "x2 = X2[:, np.newaxis]\n",
        "y2= y2[:, np.newaxis]\n",
        "\n",
        "model = LinearRegression()\n",
        "model.fit(x2_poly, y2)\n",
        "y2_poly_pred = model.predict(x2_poly)\n",
        "\n",
        "rmse = np.sqrt(mean_squared_error(y2,y2_poly_pred))\n",
        "r2 = r2_score(y2,y2_poly_pred)\n",
        "print(\"RMSE:\",rmse)\n",
        "print(\"R2:\",r2)\n",
        "\n",
        "plt.scatter(x2, y2, s=10)\n",
        "# sort the values of x before line plot\n",
        "sort_axis = operator.itemgetter(0)\n",
        "sorted_zip = sorted(zip(x2,y2_poly_pred), key=sort_axis)\n",
        "x2, y2_poly_pred = zip(*sorted_zip)\n",
        "plt.plot(x2, y2_poly_pred, color='m')\n",
        "plt.title('When order,M =9')\n",
        "plt.xlabel('X')\n",
        "plt.ylabel('y=sin(2*pi*X)+N')\n",
        "plt.show()"
      ],
      "execution_count": 209,
      "outputs": [
        {
          "output_type": "stream",
          "text": [
            "RMSE: 1.0113260195943599\n",
            "R2: 0.3925993349701954\n"
          ],
          "name": "stdout"
        },
        {
          "output_type": "display_data",
          "data": {
            "image/png": "[encoded data removed]",
            "text/plain": [
              "<Figure size 432x288 with 1 Axes>"
            ]
          },
          "metadata": {
            "tags": [],
            "needs_background": "light"
          }
        }
      ]
    },
    {
      "cell_type": "code",
      "metadata": {
        "pycharm": {
          "name": "#%%\n"
        },
        "id": "7_yXGDuTdq2u"
      },
      "source": [
        "def regularizeRidge(alpha):\n",
        "    if alpha < 0: alpha = math.exp(alpha)\n",
        "    else:\n",
        "        print(\"alpha = \",alpha)\n",
        "        if alpha != 0: print(\"ln(alpha) = \", math.log(alpha))\n",
        "    polynomial_features= PolynomialFeatures(degree=9)\n",
        "    x_transformed =  polynomial_features.fit_transform(X2.reshape(120,1))\n",
        "    poly_linear_model = Ridge(alpha = alpha)\n",
        "    poly_linear_model.fit(x_transformed, y2)\n",
        "    return poly_linear_model\n",
        "\n",
        "def chartRidge(alpha):\n",
        "    model = regularizeRidge(alpha)\n",
        "    xx = np.linspace(0, 1, 120)\n",
        "    x_transformed =polynomial_features.fit_transform(xx.reshape(120,1))\n",
        "    yy = model.predict(x_transformed)\n",
        "    plt.plot(xx, yy,label=alpha)\n",
        "    plt.scatter(X_train, y_train)\n",
        "    plt.scatter(Xt, yt, c = 'r')\n",
        "    plt.legend()"
      ],
      "execution_count": 210,
      "outputs": []
    },
    {
      "cell_type": "code",
      "metadata": {
        "pycharm": {
          "name": "#%%\n"
        },
        "colab": {
          "base_uri": "https://localhost:8080/",
          "height": 299
        },
        "id": "8GNGH3o9dq2u",
        "outputId": "1380a992-ec74-4a67-a701-9ab67c2c7e88"
      },
      "source": [
        "chartRidge(1)"
      ],
      "execution_count": 211,
      "outputs": [
        {
          "output_type": "stream",
          "text": [
            "alpha =  1\n",
            "ln(alpha) =  0.0\n"
          ],
          "name": "stdout"
        },
        {
          "output_type": "display_data",
          "data": {
            "image/png": "[encoded data removed]",
            "text/plain": [
              "<Figure size 432x288 with 1 Axes>"
            ]
          },
          "metadata": {
            "tags": [],
            "needs_background": "light"
          }
        }
      ]
    },
    {
      "cell_type": "code",
      "metadata": {
        "pycharm": {
          "name": "#%%\n"
        },
        "colab": {
          "base_uri": "https://localhost:8080/",
          "height": 299
        },
        "id": "ZDk3rMuqdq2v",
        "outputId": "c4c948b3-bf3d-49bc-8ba2-0fd4f0b06573"
      },
      "source": [
        "chartRidge(0.1)"
      ],
      "execution_count": 212,
      "outputs": [
        {
          "output_type": "stream",
          "text": [
            "alpha =  0.1\n",
            "ln(alpha) =  -2.3025850929940455\n"
          ],
          "name": "stdout"
        },
        {
          "output_type": "display_data",
          "data": {
            "image/png": "[encoded data removed]",
            "text/plain": [
              "<Figure size 432x288 with 1 Axes>"
            ]
          },
          "metadata": {
            "tags": [],
            "needs_background": "light"
          }
        }
      ]
    },
    {
      "cell_type": "code",
      "metadata": {
        "pycharm": {
          "name": "#%%\n"
        },
        "colab": {
          "base_uri": "https://localhost:8080/",
          "height": 299
        },
        "id": "cY-pnTmfdq2v",
        "outputId": "f18adecc-dc6a-44aa-b4fd-4ea98cf1d44c"
      },
      "source": [
        "chartRidge(0.01)"
      ],
      "execution_count": 213,
      "outputs": [
        {
          "output_type": "stream",
          "text": [
            "alpha =  0.01\n",
            "ln(alpha) =  -4.605170185988091\n"
          ],
          "name": "stdout"
        },
        {
          "output_type": "display_data",
          "data": {
            "image/png": "[encoded data removed]",
            "text/plain": [
              "<Figure size 432x288 with 1 Axes>"
            ]
          },
          "metadata": {
            "tags": [],
            "needs_background": "light"
          }
        }
      ]
    },
    {
      "cell_type": "code",
      "metadata": {
        "pycharm": {
          "name": "#%%\n"
        },
        "colab": {
          "base_uri": "https://localhost:8080/",
          "height": 299
        },
        "id": "IeYIqBR0dq2w",
        "outputId": "39414cdd-d349-4daf-ca4b-97fcea672d4b"
      },
      "source": [
        "chartRidge(0.001)"
      ],
      "execution_count": 214,
      "outputs": [
        {
          "output_type": "stream",
          "text": [
            "alpha =  0.001\n",
            "ln(alpha) =  -6.907755278982137\n"
          ],
          "name": "stdout"
        },
        {
          "output_type": "display_data",
          "data": {
            "image/png": "[encoded data removed]",
            "text/plain": [
              "<Figure size 432x288 with 1 Axes>"
            ]
          },
          "metadata": {
            "tags": [],
            "needs_background": "light"
          }
        }
      ]
    },
    {
      "cell_type": "code",
      "metadata": {
        "pycharm": {
          "name": "#%%\n"
        },
        "colab": {
          "base_uri": "https://localhost:8080/",
          "height": 299
        },
        "id": "FZ2xUYR_dq2w",
        "outputId": "472cd1ca-88dc-4eb4-a8ce-997db147eec8"
      },
      "source": [
        "chartRidge(0.0001)"
      ],
      "execution_count": 215,
      "outputs": [
        {
          "output_type": "stream",
          "text": [
            "alpha =  0.0001\n",
            "ln(alpha) =  -9.210340371976182\n"
          ],
          "name": "stdout"
        },
        {
          "output_type": "display_data",
          "data": {
            "image/png": "[encoded data removed]",
            "text/plain": [
              "<Figure size 432x288 with 1 Axes>"
            ]
          },
          "metadata": {
            "tags": [],
            "needs_background": "light"
          }
        }
      ]
    },
    {
      "cell_type": "code",
      "metadata": {
        "pycharm": {
          "name": "#%%\n"
        },
        "colab": {
          "base_uri": "https://localhost:8080/",
          "height": 299
        },
        "id": "Ow7vWFUodq2w",
        "outputId": "b9ae1fa6-e9ef-4c69-c144-b5f3f5adb489"
      },
      "source": [
        "chartRidge(0.00001)"
      ],
      "execution_count": 216,
      "outputs": [
        {
          "output_type": "stream",
          "text": [
            "alpha =  1e-05\n",
            "ln(alpha) =  -11.512925464970229\n"
          ],
          "name": "stdout"
        },
        {
          "output_type": "display_data",
          "data": {
            "image/png": "[encoded data removed]",
            "text/plain": [
              "<Figure size 432x288 with 1 Axes>"
            ]
          },
          "metadata": {
            "tags": [],
            "needs_background": "light"
          }
        }
      ]
    },
    {
      "cell_type": "code",
      "metadata": {
        "pycharm": {
          "name": "#%%\n"
        },
        "id": "0dhgoPVmdq2w"
      },
      "source": [
        "def getMse(Y, yy):\n",
        "    standard = tf.square(Y - yy)\n",
        "    mse = tf.reduce_mean(standard)\n",
        "    return mse.numpy()\n",
        "\n",
        "\n",
        "train_error_ridge = np.zeros(30)\n",
        "test_error_ridge = np.zeros(30)\n",
        "\n",
        "def getErrorRidge(i:int,  model) :     # A new error function\n",
        "    xx_transformed_test = polynomial_features.fit_transform(Xt.reshape(Xt.shape[0], 1))\n",
        "    xx_transformed_train = polynomial_features.fit_transform(X_train.reshape(X_train.shape[0], 1))\n",
        "    yy_test = model.predict(xx_transformed_test)\n",
        "    yy_train = model.predict(xx_transformed_train)\n",
        "    test_error_ridge[i] = getMse(yt, yy_test)\n",
        "    train_error_ridge[i] = getMse(y_train, yy_train)"
      ],
      "execution_count": 217,
      "outputs": []
    },
    {
      "cell_type": "code",
      "metadata": {
        "pycharm": {
          "name": "#%%\n"
        },
        "id": "I0s1ObBpdq2w"
      },
      "source": [
        "xx = list(range(-30, 0))\n",
        "for i in xx:\n",
        "    model = regularizeRidge(i)\n",
        "    getErrorRidge(i, model)"
      ],
      "execution_count": 218,
      "outputs": []
    },
    {
      "cell_type": "code",
      "metadata": {
        "pycharm": {
          "name": "#%%\n"
        },
        "colab": {
          "base_uri": "https://localhost:8080/",
          "height": 307
        },
        "id": "t5flBA1Vdq2x",
        "outputId": "b88689fb-e252-4a1f-b898-7439bb739701"
      },
      "source": [
        "xx = list(range(-30, 0))\n",
        "plt.plot(xx, test_error_ridge, label = \"$test-error$\", c = 'y')\n",
        "plt.plot(xx, train_error_ridge, label = \"$train-error$\", c = 'r')\n",
        "\n",
        "plt.xlabel('ln(lamdba)')\n",
        "\n",
        "plt.ylabel('Error')\n",
        "plt.legend()"
      ],
      "execution_count": 219,
      "outputs": [
        {
          "output_type": "execute_result",
          "data": {
            "text/plain": [
              "<matplotlib.legend.Legend at 0x7f347f179c50>"
            ]
          },
          "metadata": {
            "tags": []
          },
          "execution_count": 219
        },
        {
          "output_type": "display_data",
          "data": {
            "image/png": "[encoded data removed]",
            "text/plain": [
              "<Figure size 432x288 with 1 Axes>"
            ]
          },
          "metadata": {
            "tags": [],
            "needs_background": "light"
          }
        }
      ]
    },
    {
      "cell_type": "code",
      "metadata": {
        "pycharm": {
          "name": "#%%\n"
        },
        "colab": {
          "base_uri": "https://localhost:8080/"
        },
        "id": "jcCNFIa_dq2x",
        "outputId": "d58587cb-84f2-40fd-e307-d697c4f9eb73"
      },
      "source": [
        "best_lambda = 0\n",
        "for i in range(-30,0):\n",
        "    if test_error_ridge[i+30] == test_error_ridge.min(): best_lambda = i\n",
        "print(\"best ln(lambda)based on my analysis = \", best_lambda)\n",
        "best_lambda_0 = math.exp(best_lambda)\n",
        "print(\"best lambda = \", best_lambda_0)\n",
        "print(\"In Conclusion of this analysis, the model with input ln(lamdba) = \",best_lambda,\", lambda = \",best_lambda_0,\" will provide best test performance.\")"
      ],
      "execution_count": 220,
      "outputs": [
        {
          "output_type": "stream",
          "text": [
            "best ln(lambda)based on my analysis =  -2\n",
            "best lambda =  0.1353352832366127\n",
            "In Conclusion of this analysis, the model with input ln(lamdba) =  -2 , lambda =  0.1353352832366127  will provide best test performance.\n"
          ],
          "name": "stdout"
        }
      ]
    },
    {
      "cell_type": "code",
      "metadata": {
        "pycharm": {
          "name": "#%%\n"
        },
        "id": "Zk06K1F0dq2x"
      },
      "source": [
        ""
      ],
      "execution_count": null,
      "outputs": []
    }
  ]
}