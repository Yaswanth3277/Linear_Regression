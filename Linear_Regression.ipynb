{
  "nbformat": 4,
  "nbformat_minor": 0,
  "metadata": {
    "kernelspec": {
      "display_name": "Python 3",
      "language": "python",
      "name": "python3"
    },
    "language_info": {
      "codemirror_mode": {
        "name": "ipython",
        "version": 2
      },
      "file_extension": ".py",
      "mimetype": "text/x-python",
      "name": "python",
      "nbconvert_exporter": "python",
      "pygments_lexer": "ipython2",
      "version": "2.7.6"
    },
    "colab": {
      "name": "Linear_Regression.ipynb",
      "provenance": []
    }
  },
  "cells": [
    {
      "cell_type": "code",
      "metadata": {
        "id": "ubXsoyqXdq2j"
      },
      "source": [
        "import numpy as np\n",
        "import math\n",
        "from sklearn.model_selection import train_test_split\n",
        "from sklearn.linear_model import LinearRegression\n",
        "import matplotlib.pyplot as plt\n",
        "import pandas as pd\n",
        "import operator\n",
        "from sklearn.metrics import mean_squared_error, r2_score\n",
        "from sklearn.preprocessing import PolynomialFeatures\n",
        "import sklearn\n",
        "from sklearn.pipeline import Pipeline\n",
        "from sklearn.linear_model import Ridge\n",
        "import tensorflow as tf\n",
        "from sklearn import preprocessing"
      ],
      "execution_count": 253,
      "outputs": []
    },
    {
      "cell_type": "code",
      "metadata": {
        "pycharm": {
          "name": "#%%\n"
        },
        "colab": {
          "base_uri": "https://localhost:8080/"
        },
        "id": "Cvw37zFndq2m",
        "outputId": "c77cff2a-a325-468a-f457-bdf7be58ed9e"
      },
      "source": [
        "X = np.random.uniform(0,1,20)\n",
        "X\n"
      ],
      "execution_count": 254,
      "outputs": [
        {
          "output_type": "execute_result",
          "data": {
            "text/plain": [
              "array([0.5488135 , 0.71518937, 0.60276338, 0.54488318, 0.4236548 ,\n",
              "       0.64589411, 0.43758721, 0.891773  , 0.96366276, 0.38344152,\n",
              "       0.79172504, 0.52889492, 0.56804456, 0.92559664, 0.07103606,\n",
              "       0.0871293 , 0.0202184 , 0.83261985, 0.77815675, 0.87001215])"
            ]
          },
          "metadata": {
            "tags": []
          },
          "execution_count": 254
        }
      ]
    },
    {
      "cell_type": "code",
      "metadata": {
        "pycharm": {
          "name": "#%%\n"
        },
        "colab": {
          "base_uri": "https://localhost:8080/"
        },
        "id": "6tUdIFPqdq2m",
        "outputId": "702e6b80-3465-4290-9933-80fba265a0d4"
      },
      "source": [
        "mean = 0\n",
        "s_d = 1\n",
        "N = np.random.normal(mean, s_d, 20)\n",
        "N"
      ],
      "execution_count": 255,
      "outputs": [
        {
          "output_type": "execute_result",
          "data": {
            "text/plain": [
              "array([ 1.49407907, -0.20515826,  0.3130677 , -0.85409574, -2.55298982,\n",
              "        0.6536186 ,  0.8644362 , -0.74216502,  2.26975462, -1.45436567,\n",
              "        0.04575852, -0.18718385,  1.53277921,  1.46935877,  0.15494743,\n",
              "        0.37816252, -0.88778575, -1.98079647, -0.34791215,  0.15634897])"
            ]
          },
          "metadata": {
            "tags": []
          },
          "execution_count": 255
        }
      ]
    },
    {
      "cell_type": "code",
      "metadata": {
        "pycharm": {
          "name": "#%%\n"
        },
        "colab": {
          "base_uri": "https://localhost:8080/",
          "height": 432
        },
        "id": "WqRq2Yu4dq2n",
        "outputId": "7de41d4a-99fc-432f-85f9-2affb1d400cf"
      },
      "source": [
        "y=np.sin(2*np.pi*X)+(0.1 * N)\n",
        "print(y)\n",
        "print(X)\n",
        "plt.scatter(X,y)\n",
        "plt.xlabel('X')\n",
        "plt.ylabel('y=sin(2*pi*X)+0.1 * N')\n",
        "plt.show()\n"
      ],
      "execution_count": 256,
      "outputs": [
        {
          "output_type": "stream",
          "text": [
            "[-1.52510463e-01 -9.96691450e-01 -5.70435983e-01 -3.63695766e-01\n",
            "  2.06206129e-01 -7.28223903e-01  4.68620742e-01 -7.03017528e-01\n",
            "  6.40244190e-04  5.23188732e-01 -9.61254986e-01 -1.99274801e-01\n",
            " -2.61352460e-01 -3.03711245e-01  4.47155165e-01  5.58327450e-01\n",
            "  3.79159515e-02 -1.06633783e+00 -1.01918269e+00 -7.13281477e-01]\n",
            "[0.5488135  0.71518937 0.60276338 0.54488318 0.4236548  0.64589411\n",
            " 0.43758721 0.891773   0.96366276 0.38344152 0.79172504 0.52889492\n",
            " 0.56804456 0.92559664 0.07103606 0.0871293  0.0202184  0.83261985\n",
            " 0.77815675 0.87001215]\n"
          ],
          "name": "stdout"
        },
        {
          "output_type": "display_data",
          "data": {
            "image/png": "[encoded data removed]",
            "text/plain": [
              "<Figure size 432x288 with 1 Axes>"
            ]
          },
          "metadata": {
            "tags": [],
            "needs_background": "light"
          }
        }
      ]
    },
    {
      "cell_type": "code",
      "metadata": {
        "pycharm": {
          "name": "#%%\n"
        },
        "colab": {
          "base_uri": "https://localhost:8080/",
          "height": 512
        },
        "id": "ljA_yhY8dq2o",
        "outputId": "1f3507f2-d4a6-442c-8965-f0c668dc793d"
      },
      "source": [
        "X_train, X_test, y_train, y_test = train_test_split(X, y, test_size=0.5)\n",
        "print(X_train)\n",
        "print(X_test)\n",
        "print(y_train)\n",
        "print(y_test)\n",
        "\n",
        "d= {\"X_train\":X_train, \"Y_train\":y_train, \"X_test\":X_test, \"y_test\":y_test}\n",
        "df = pd.DataFrame(d)\n",
        "df"
      ],
      "execution_count": 257,
      "outputs": [
        {
          "output_type": "stream",
          "text": [
            "[0.38344152 0.64589411 0.87001215 0.5488135  0.83261985 0.60276338\n",
            " 0.07103606 0.52889492 0.43758721 0.54488318]\n",
            "[0.71518937 0.0871293  0.0202184  0.92559664 0.56804456 0.891773\n",
            " 0.96366276 0.77815675 0.79172504 0.4236548 ]\n",
            "[ 0.52318873 -0.7282239  -0.71328148 -0.15251046 -1.06633783 -0.57043598\n",
            "  0.44715516 -0.1992748   0.46862074 -0.36369577]\n",
            "[-9.96691450e-01  5.58327450e-01  3.79159515e-02 -3.03711245e-01\n",
            " -2.61352460e-01 -7.03017528e-01  6.40244190e-04 -1.01918269e+00\n",
            " -9.61254986e-01  2.06206129e-01]\n"
          ],
          "name": "stdout"
        },
        {
          "output_type": "execute_result",
          "data": {
            "text/html": [
              "<div>\n",
              "<style scoped>\n",
              "    .dataframe tbody tr th:only-of-type {\n",
              "        vertical-align: middle;\n",
              "    }\n",
              "\n",
              "    .dataframe tbody tr th {\n",
              "        vertical-align: top;\n",
              "    }\n",
              "\n",
              "    .dataframe thead th {\n",
              "        text-align: right;\n",
              "    }\n",
              "</style>\n",
              "<table border=\"1\" class=\"dataframe\">\n",
              "  <thead>\n",
              "    <tr style=\"text-align: right;\">\n",
              "      <th></th>\n",
              "      <th>X_train</th>\n",
              "      <th>Y_train</th>\n",
              "      <th>X_test</th>\n",
              "      <th>y_test</th>\n",
              "    </tr>\n",
              "  </thead>\n",
              "  <tbody>\n",
              "    <tr>\n",
              "      <th>0</th>\n",
              "      <td>0.383442</td>\n",
              "      <td>0.523189</td>\n",
              "      <td>0.715189</td>\n",
              "      <td>-0.996691</td>\n",
              "    </tr>\n",
              "    <tr>\n",
              "      <th>1</th>\n",
              "      <td>0.645894</td>\n",
              "      <td>-0.728224</td>\n",
              "      <td>0.087129</td>\n",
              "      <td>0.558327</td>\n",
              "    </tr>\n",
              "    <tr>\n",
              "      <th>2</th>\n",
              "      <td>0.870012</td>\n",
              "      <td>-0.713281</td>\n",
              "      <td>0.020218</td>\n",
              "      <td>0.037916</td>\n",
              "    </tr>\n",
              "    <tr>\n",
              "      <th>3</th>\n",
              "      <td>0.548814</td>\n",
              "      <td>-0.152510</td>\n",
              "      <td>0.925597</td>\n",
              "      <td>-0.303711</td>\n",
              "    </tr>\n",
              "    <tr>\n",
              "      <th>4</th>\n",
              "      <td>0.832620</td>\n",
              "      <td>-1.066338</td>\n",
              "      <td>0.568045</td>\n",
              "      <td>-0.261352</td>\n",
              "    </tr>\n",
              "    <tr>\n",
              "      <th>5</th>\n",
              "      <td>0.602763</td>\n",
              "      <td>-0.570436</td>\n",
              "      <td>0.891773</td>\n",
              "      <td>-0.703018</td>\n",
              "    </tr>\n",
              "    <tr>\n",
              "      <th>6</th>\n",
              "      <td>0.071036</td>\n",
              "      <td>0.447155</td>\n",
              "      <td>0.963663</td>\n",
              "      <td>0.000640</td>\n",
              "    </tr>\n",
              "    <tr>\n",
              "      <th>7</th>\n",
              "      <td>0.528895</td>\n",
              "      <td>-0.199275</td>\n",
              "      <td>0.778157</td>\n",
              "      <td>-1.019183</td>\n",
              "    </tr>\n",
              "    <tr>\n",
              "      <th>8</th>\n",
              "      <td>0.437587</td>\n",
              "      <td>0.468621</td>\n",
              "      <td>0.791725</td>\n",
              "      <td>-0.961255</td>\n",
              "    </tr>\n",
              "    <tr>\n",
              "      <th>9</th>\n",
              "      <td>0.544883</td>\n",
              "      <td>-0.363696</td>\n",
              "      <td>0.423655</td>\n",
              "      <td>0.206206</td>\n",
              "    </tr>\n",
              "  </tbody>\n",
              "</table>\n",
              "</div>"
            ],
            "text/plain": [
              "    X_train   Y_train    X_test    y_test\n",
              "0  0.383442  0.523189  0.715189 -0.996691\n",
              "1  0.645894 -0.728224  0.087129  0.558327\n",
              "2  0.870012 -0.713281  0.020218  0.037916\n",
              "3  0.548814 -0.152510  0.925597 -0.303711\n",
              "4  0.832620 -1.066338  0.568045 -0.261352\n",
              "5  0.602763 -0.570436  0.891773 -0.703018\n",
              "6  0.071036  0.447155  0.963663  0.000640\n",
              "7  0.528895 -0.199275  0.778157 -1.019183\n",
              "8  0.437587  0.468621  0.791725 -0.961255\n",
              "9  0.544883 -0.363696  0.423655  0.206206"
            ]
          },
          "metadata": {
            "tags": []
          },
          "execution_count": 257
        }
      ]
    },
    {
      "cell_type": "code",
      "metadata": {
        "pycharm": {
          "name": "#%%\n"
        },
        "id": "R05mRq2Idq2o"
      },
      "source": [
        "x = X_train[:, np.newaxis]\n",
        "y = y_train[:, np.newaxis]\n",
        "model = LinearRegression()\n",
        "model.fit(x,y)\n",
        "y_pred = model.predict(x)"
      ],
      "execution_count": 258,
      "outputs": []
    },
    {
      "cell_type": "code",
      "metadata": {
        "pycharm": {
          "name": "#%%\n"
        },
        "colab": {
          "base_uri": "https://localhost:8080/",
          "height": 265
        },
        "id": "x_3X6-4Odq2p",
        "outputId": "50f08f78-2118-447a-b29e-f274cb059a37"
      },
      "source": [
        "plt.scatter(x,y,s=15)\n",
        "plt.plot(x,y_pred, color='r')\n",
        "plt.show()"
      ],
      "execution_count": 259,
      "outputs": [
        {
          "output_type": "display_data",
          "data": {
            "image/png": "[encoded data removed]",
            "text/plain": [
              "<Figure size 432x288 with 1 Axes>"
            ]
          },
          "metadata": {
            "tags": [],
            "needs_background": "light"
          }
        }
      ]
    },
    {
      "cell_type": "code",
      "metadata": {
        "pycharm": {
          "name": "#%%\n"
        },
        "colab": {
          "base_uri": "https://localhost:8080/",
          "height": 363
        },
        "id": "RxEoD-IYdq2p",
        "outputId": "4c108a4e-4a03-4255-dccf-cdd47ecf7d00"
      },
      "source": [
        "np.random.seed(0)\n",
        "polynomial_features= PolynomialFeatures(degree=0)\n",
        "x_polynomial = polynomial_features.fit_transform(x)\n",
        "\n",
        "model_0 = LinearRegression()\n",
        "model_0.fit(x_polynomial, y)\n",
        "y_polynomial_pred = model_0.predict(x_polynomial)\n",
        "\n",
        "rmse = np.sqrt(mean_squared_error(y,y_polynomial_pred))\n",
        "r2 = r2_score(y,y_polynomial_pred)\n",
        "print(\"RMSE:\",rmse)\n",
        "print(\"R2:\",r2)\n",
        "print('weights:')\n",
        "print(model_0.coef_)\n",
        "plt.scatter(x, y, s=10)\n",
        "sorted_axis = operator.itemgetter(0)\n",
        "sorted_zip = sorted(zip(x,y_polynomial_pred), key=sorted_axis)\n",
        "x, y_polynomial_pred = zip(*sorted_zip)\n",
        "plt.plot(x, y_polynomial_pred, color='m')\n",
        "plt.title('When order, M=0')\n",
        "plt.xlabel('X')\n",
        "plt.ylabel('y=sin(2*pi*X)+0.1*N')\n",
        "plt.show()"
      ],
      "execution_count": 260,
      "outputs": [
        {
          "output_type": "stream",
          "text": [
            "RMSE: 0.5325008881280809\n",
            "R2: 0.0\n",
            "weights:\n",
            "[[0.]]\n"
          ],
          "name": "stdout"
        },
        {
          "output_type": "display_data",
          "data": {
            "image/png": "[encoded data removed]",
            "text/plain": [
              "<Figure size 432x288 with 1 Axes>"
            ]
          },
          "metadata": {
            "tags": [],
            "needs_background": "light"
          }
        }
      ]
    },
    {
      "cell_type": "code",
      "metadata": {
        "pycharm": {
          "name": "#%%\n"
        },
        "colab": {
          "base_uri": "https://localhost:8080/",
          "height": 346
        },
        "id": "GAcGRFvzdq2p",
        "outputId": "05ed1f68-347e-4ddf-936a-86aa5029360b"
      },
      "source": [
        "np.random.seed(0)\n",
        "polynomial_features= PolynomialFeatures(degree=1)\n",
        "x_polynomial = polynomial_features.fit_transform(x)\n",
        "\n",
        "model_1 = LinearRegression()\n",
        "model_1.fit(x_polynomial, y)\n",
        "y_polynomial_pred = model_1.predict(x_polynomial)\n",
        "\n",
        "rmse = np.sqrt(mean_squared_error(y,y_polynomial_pred))\n",
        "r2 = r2_score(y,y_polynomial_pred)\n",
        "print(\"RMSE:\",rmse)\n",
        "print(\"R2:\",r2)\n",
        "print(model_1.coef_)\n",
        "plt.scatter(x, y, s=15)\n",
        "sorted_axis = operator.itemgetter(0)\n",
        "sorted_zip = sorted(zip(x,y_polynomial_pred), key=sorted_axis)\n",
        "x, y_polynomial_pred = zip(*sorted_zip)\n",
        "plt.plot(x, y_polynomial_pred, color='m')\n",
        "plt.title('When order, M=1')\n",
        "plt.xlabel('X')\n",
        "plt.ylabel('y=sin(2*pi*X)+0.1*N')\n",
        "plt.show()"
      ],
      "execution_count": 261,
      "outputs": [
        {
          "output_type": "stream",
          "text": [
            "RMSE: 0.5323508034194481\n",
            "R2: 0.0005636180573022065\n",
            "[[ 0.         -0.05866312]]\n"
          ],
          "name": "stdout"
        },
        {
          "output_type": "display_data",
          "data": {
            "image/png": "[encoded data removed]",
            "text/plain": [
              "<Figure size 432x288 with 1 Axes>"
            ]
          },
          "metadata": {
            "tags": [],
            "needs_background": "light"
          }
        }
      ]
    },
    {
      "cell_type": "code",
      "metadata": {
        "pycharm": {
          "name": "#%%\n"
        },
        "colab": {
          "base_uri": "https://localhost:8080/",
          "height": 346
        },
        "id": "QyE5gdAadq2q",
        "outputId": "444b1090-56e7-4fd1-a884-fa4d13a6b189"
      },
      "source": [
        "np.random.seed(0)\n",
        "polynomial_features= PolynomialFeatures(degree=3)\n",
        "x_polynomial = polynomial_features.fit_transform(x)\n",
        "\n",
        "model_3 = LinearRegression()\n",
        "model_3.fit(x_polynomial, y)\n",
        "y_polynomial_pred = model_3.predict(x_polynomial)\n",
        "\n",
        "rmse = np.sqrt(mean_squared_error(y,y_polynomial_pred))\n",
        "r2 = r2_score(y,y_polynomial_pred)\n",
        "print(\"RMSE:\",rmse)\n",
        "print(\"R2:\",r2)\n",
        "print(model_3.coef_)\n",
        "\n",
        "plt.scatter(x, y, s=10)\n",
        "sorted_axis = operator.itemgetter(0)\n",
        "sorted_zip = sorted(zip(x,y_polynomial_pred), key=sorted_axis)\n",
        "x, y_polynomial_pred = zip(*sorted_zip)\n",
        "plt.plot(x, y_polynomial_pred, color='m')\n",
        "plt.title('When order, M=3')\n",
        "plt.xlabel('X')\n",
        "plt.ylabel('y=sin(2*pi*X)+0.1*N')\n",
        "plt.show()"
      ],
      "execution_count": 262,
      "outputs": [
        {
          "output_type": "stream",
          "text": [
            "RMSE: 0.35697114812880076\n",
            "R2: 0.5506077699379928\n",
            "[[  0.         -19.45948587  43.27697646 -26.73303637]]\n"
          ],
          "name": "stdout"
        },
        {
          "output_type": "display_data",
          "data": {
            "image/png": "[encoded data removed]",
            "text/plain": [
              "<Figure size 432x288 with 1 Axes>"
            ]
          },
          "metadata": {
            "tags": [],
            "needs_background": "light"
          }
        }
      ]
    },
    {
      "cell_type": "code",
      "metadata": {
        "pycharm": {
          "name": "#%%\n"
        },
        "colab": {
          "base_uri": "https://localhost:8080/",
          "height": 380
        },
        "id": "NYzdvX5Cdq2q",
        "outputId": "57ee6f4f-666a-4045-e9fc-3d92829ac6f9"
      },
      "source": [
        "np.random.seed(0)\n",
        "polynomial_features= PolynomialFeatures(degree=9)\n",
        "x_polynomial = polynomial_features.fit_transform(x)\n",
        "\n",
        "model_9 = LinearRegression()\n",
        "model_9.fit(x_polynomial, y)\n",
        "y_polynomial_pred = model_9.predict(x_polynomial)\n",
        "\n",
        "rmse = np.sqrt(mean_squared_error(y,y_polynomial_pred))\n",
        "r2 = r2_score(y,y_polynomial_pred)\n",
        "print(\"RMSE:\",rmse)\n",
        "print(\"R2:\",r2)\n",
        "print(model_9.coef_)\n",
        "\n",
        "plt.scatter(x, y, s=10)\n",
        "sorted_axis = operator.itemgetter(0)\n",
        "sorted_zip = sorted(zip(x,y_polynomial_pred), key=sorted_axis)\n",
        "x, y_polynomial_pred = zip(*sorted_zip)\n",
        "plt.plot(x, y_polynomial_pred, color='m')\n",
        "plt.title('When order,M =9')\n",
        "plt.xlabel('X')\n",
        "plt.ylabel('y=sin(2*pi*X)+0.1*N')\n",
        "plt.show()"
      ],
      "execution_count": 263,
      "outputs": [
        {
          "output_type": "stream",
          "text": [
            "RMSE: 5.647469002115894e-07\n",
            "R2: 0.9999999999988752\n",
            "[[ 0.00000000e+00  5.32603583e+07 -5.39473104e+08  2.87072000e+09\n",
            "  -9.20307827e+09  1.87862446e+10 -2.46769972e+10  2.02440602e+10\n",
            "  -9.45132725e+09  1.91887549e+09]]\n"
          ],
          "name": "stdout"
        },
        {
          "output_type": "display_data",
          "data": {
            "image/png": "[encoded data removed]",
            "text/plain": [
              "<Figure size 432x288 with 1 Axes>"
            ]
          },
          "metadata": {
            "tags": [],
            "needs_background": "light"
          }
        }
      ]
    },
    {
      "cell_type": "code",
      "metadata": {
        "pycharm": {
          "name": "#%%\n"
        },
        "colab": {
          "base_uri": "https://localhost:8080/"
        },
        "id": "HNEWL_9tdq2q",
        "outputId": "61d74710-0577-4a8e-fcef-32181b9c5fc8"
      },
      "source": [
        "print(model_0.coef_)\n",
        "print(model_1.coef_)\n",
        "print(model_3.coef_)\n",
        "print(model_9.coef_)"
      ],
      "execution_count": 264,
      "outputs": [
        {
          "output_type": "stream",
          "text": [
            "[[0.]]\n",
            "[[ 0.         -0.05866312]]\n",
            "[[  0.         -19.45948587  43.27697646 -26.73303637]]\n",
            "[[ 0.00000000e+00  5.32603583e+07 -5.39473104e+08  2.87072000e+09\n",
            "  -9.20307827e+09  1.87862446e+10 -2.46769972e+10  2.02440602e+10\n",
            "  -9.45132725e+09  1.91887549e+09]]\n"
          ],
          "name": "stdout"
        }
      ]
    },
    {
      "cell_type": "code",
      "metadata": {
        "pycharm": {
          "name": "#%%\n"
        },
        "colab": {
          "base_uri": "https://localhost:8080/",
          "height": 430
        },
        "id": "_auZC815dq2q",
        "outputId": "238a7ce5-a068-4f53-c322-40977d363e27"
      },
      "source": [
        "data = {'M=0':[model_0.coef_[0][0],\"\",\"\",\"\",\"\",\"\",\"\",\"\",\"\",\"\" ],'M=1':[model_1.coef_[0][0],model_1.coef_[0][1],\"\",\"\",\"\",\"\",\"\",\"\",\"\",\"\"],'M=3':[model_3.coef_[0][0],model_3.coef_[0][1],model_3.coef_[0][2],model_3.coef_[0][3],\"\",\"\",\"\",\"\",\"\",\"\"],'M=9':[ model_9.coef_[0][0],model_9.coef_[0][1],model_9.coef_[0][2],model_9.coef_[0][3],model_9.coef_[0][4], model_9.coef_[0][5],model_9.coef_[0][6],model_9.coef_[0][7],model_9.coef_[0][8],model_9.coef_[0][9]]}\n",
        "print(data)\n",
        "\n",
        "df.w = pd.DataFrame(data, index =['w0', 'w1', 'w2', 'w3', 'w4', 'w5', 'w6', 'w7', 'w8', 'w9'])\n",
        "\n",
        "df.w"
      ],
      "execution_count": 265,
      "outputs": [
        {
          "output_type": "stream",
          "text": [
            "{'M=0': [0.0, '', '', '', '', '', '', '', '', ''], 'M=1': [0.0, -0.058663119012439965, '', '', '', '', '', '', '', ''], 'M=3': [0.0, -19.459485871833188, 43.276976460046825, -26.73303637257064, '', '', '', '', '', ''], 'M=9': [0.0, 53260358.267673284, -539473103.5027283, 2870720000.2724895, -9203078268.744234, 18786244612.847973, -24676997220.02967, 20244060218.318005, -9451327253.9391, 1918875486.0469925]}\n"
          ],
          "name": "stdout"
        },
        {
          "output_type": "stream",
          "text": [
            "/usr/local/lib/python3.7/dist-packages/ipykernel_launcher.py:4: UserWarning: Pandas doesn't allow columns to be created via a new attribute name - see https://pandas.pydata.org/pandas-docs/stable/indexing.html#attribute-access\n",
            "  after removing the cwd from sys.path.\n"
          ],
          "name": "stderr"
        },
        {
          "output_type": "execute_result",
          "data": {
            "text/html": [
              "<div>\n",
              "<style scoped>\n",
              "    .dataframe tbody tr th:only-of-type {\n",
              "        vertical-align: middle;\n",
              "    }\n",
              "\n",
              "    .dataframe tbody tr th {\n",
              "        vertical-align: top;\n",
              "    }\n",
              "\n",
              "    .dataframe thead th {\n",
              "        text-align: right;\n",
              "    }\n",
              "</style>\n",
              "<table border=\"1\" class=\"dataframe\">\n",
              "  <thead>\n",
              "    <tr style=\"text-align: right;\">\n",
              "      <th></th>\n",
              "      <th>M=0</th>\n",
              "      <th>M=1</th>\n",
              "      <th>M=3</th>\n",
              "      <th>M=9</th>\n",
              "    </tr>\n",
              "  </thead>\n",
              "  <tbody>\n",
              "    <tr>\n",
              "      <th>w0</th>\n",
              "      <td>0</td>\n",
              "      <td>0</td>\n",
              "      <td>0</td>\n",
              "      <td>0.000000e+00</td>\n",
              "    </tr>\n",
              "    <tr>\n",
              "      <th>w1</th>\n",
              "      <td></td>\n",
              "      <td>-0.0586631</td>\n",
              "      <td>-19.4595</td>\n",
              "      <td>5.326036e+07</td>\n",
              "    </tr>\n",
              "    <tr>\n",
              "      <th>w2</th>\n",
              "      <td></td>\n",
              "      <td></td>\n",
              "      <td>43.277</td>\n",
              "      <td>-5.394731e+08</td>\n",
              "    </tr>\n",
              "    <tr>\n",
              "      <th>w3</th>\n",
              "      <td></td>\n",
              "      <td></td>\n",
              "      <td>-26.733</td>\n",
              "      <td>2.870720e+09</td>\n",
              "    </tr>\n",
              "    <tr>\n",
              "      <th>w4</th>\n",
              "      <td></td>\n",
              "      <td></td>\n",
              "      <td></td>\n",
              "      <td>-9.203078e+09</td>\n",
              "    </tr>\n",
              "    <tr>\n",
              "      <th>w5</th>\n",
              "      <td></td>\n",
              "      <td></td>\n",
              "      <td></td>\n",
              "      <td>1.878624e+10</td>\n",
              "    </tr>\n",
              "    <tr>\n",
              "      <th>w6</th>\n",
              "      <td></td>\n",
              "      <td></td>\n",
              "      <td></td>\n",
              "      <td>-2.467700e+10</td>\n",
              "    </tr>\n",
              "    <tr>\n",
              "      <th>w7</th>\n",
              "      <td></td>\n",
              "      <td></td>\n",
              "      <td></td>\n",
              "      <td>2.024406e+10</td>\n",
              "    </tr>\n",
              "    <tr>\n",
              "      <th>w8</th>\n",
              "      <td></td>\n",
              "      <td></td>\n",
              "      <td></td>\n",
              "      <td>-9.451327e+09</td>\n",
              "    </tr>\n",
              "    <tr>\n",
              "      <th>w9</th>\n",
              "      <td></td>\n",
              "      <td></td>\n",
              "      <td></td>\n",
              "      <td>1.918875e+09</td>\n",
              "    </tr>\n",
              "  </tbody>\n",
              "</table>\n",
              "</div>"
            ],
            "text/plain": [
              "   M=0        M=1      M=3           M=9\n",
              "w0   0          0        0  0.000000e+00\n",
              "w1     -0.0586631 -19.4595  5.326036e+07\n",
              "w2                  43.277 -5.394731e+08\n",
              "w3                 -26.733  2.870720e+09\n",
              "w4                         -9.203078e+09\n",
              "w5                          1.878624e+10\n",
              "w6                         -2.467700e+10\n",
              "w7                          2.024406e+10\n",
              "w8                         -9.451327e+09\n",
              "w9                          1.918875e+09"
            ]
          },
          "metadata": {
            "tags": []
          },
          "execution_count": 265
        }
      ]
    },
    {
      "cell_type": "code",
      "metadata": {
        "pycharm": {
          "name": "#%%\n"
        },
        "colab": {
          "base_uri": "https://localhost:8080/"
        },
        "id": "HkGFF8B7dq2r",
        "outputId": "9bff38b9-10c2-4bd8-97b0-0c969b7cf6a5"
      },
      "source": [
        "train_rmse = []\n",
        "for m in range(0,10):\n",
        "    np.random.seed(0)\n",
        "    polynomial_features= PolynomialFeatures(degree=(m))\n",
        "    x_polynomial = polynomial_features.fit_transform(x)\n",
        "\n",
        "    model_0 = LinearRegression()\n",
        "    model_0.fit(x_polynomial, y)\n",
        "    y_polynomial_pred = model_0.predict(x_polynomial)\n",
        "\n",
        "    rmse = np.sqrt(mean_squared_error(y,y_polynomial_pred))\n",
        "    r2 = r2_score(y,y_polynomial_pred)\n",
        "    print(\"RMSE:\",rmse)\n",
        "    train_rmse.append(rmse)\n"
      ],
      "execution_count": 266,
      "outputs": [
        {
          "output_type": "stream",
          "text": [
            "RMSE: 0.5325008881280809\n",
            "RMSE: 0.5323508034194481\n",
            "RMSE: 0.4370375597999003\n",
            "RMSE: 0.35697114812880076\n",
            "RMSE: 0.3205387538750368\n",
            "RMSE: 0.31600271284515263\n",
            "RMSE: 0.31438379979870323\n",
            "RMSE: 0.2750090181625763\n",
            "RMSE: 0.1288634168709847\n",
            "RMSE: 5.647469002115894e-07\n"
          ],
          "name": "stdout"
        }
      ]
    },
    {
      "cell_type": "code",
      "metadata": {
        "pycharm": {
          "name": "#%%\n"
        },
        "id": "xZzZWqUhdq2s"
      },
      "source": [
        "x = X_test[:, np.newaxis]\n",
        "y = y_test[:, np.newaxis]"
      ],
      "execution_count": 267,
      "outputs": []
    },
    {
      "cell_type": "code",
      "metadata": {
        "pycharm": {
          "name": "#%%\n"
        },
        "colab": {
          "base_uri": "https://localhost:8080/"
        },
        "id": "qP7EUoL0dq2s",
        "outputId": "8e4eeae3-0bf9-4615-fbd2-4bda87ce05ea"
      },
      "source": [
        "test_rmse = []\n",
        "for m in range(0,10):\n",
        "    np.random.seed(0)\n",
        "    polynomial_features= PolynomialFeatures(degree=(m))\n",
        "    x_polynomial = polynomial_features.fit_transform(x)\n",
        "\n",
        "    model0 = LinearRegression()\n",
        "    model0.fit(x_polynomial, y)\n",
        "    y_polynomial_pred = model0.predict(x_polynomial)\n",
        "\n",
        "    rmse = np.sqrt(mean_squared_error(y,y_polynomial_pred))\n",
        "    r2 = r2_score(y,y_polynomial_pred)\n",
        "    print(\"RMSE:\",rmse)\n",
        "    test_rmse.append(rmse)"
      ],
      "execution_count": 268,
      "outputs": [
        {
          "output_type": "stream",
          "text": [
            "RMSE: 0.5274264642778815\n",
            "RMSE: 0.4106986788471861\n",
            "RMSE: 0.3855147479168974\n",
            "RMSE: 0.0754490897286497\n",
            "RMSE: 0.06913208024830461\n",
            "RMSE: 0.060696926154708626\n",
            "RMSE: 0.042215039311431356\n",
            "RMSE: 0.03834310149199131\n",
            "RMSE: 0.014408645194524334\n",
            "RMSE: 8.593299615203238e-10\n"
          ],
          "name": "stdout"
        }
      ]
    },
    {
      "cell_type": "code",
      "metadata": {
        "pycharm": {
          "name": "#%%\n"
        },
        "colab": {
          "base_uri": "https://localhost:8080/",
          "height": 396
        },
        "id": "cQOBMBRGdq2s",
        "outputId": "16ab8465-4ac0-4c28-d745-6fd2743bf17f"
      },
      "source": [
        "\n",
        "data1 = {'M':[0,1,2,3,4,5,6,7,8,9],'Train.RMSE':train_rmse,'Test.RMSE':test_rmse}\n",
        "print(data)\n",
        "\n",
        "df1 = pd.DataFrame(data1)\n",
        "\n",
        "df1"
      ],
      "execution_count": 269,
      "outputs": [
        {
          "output_type": "stream",
          "text": [
            "{'M=0': [0.0, '', '', '', '', '', '', '', '', ''], 'M=1': [0.0, -0.058663119012439965, '', '', '', '', '', '', '', ''], 'M=3': [0.0, -19.459485871833188, 43.276976460046825, -26.73303637257064, '', '', '', '', '', ''], 'M=9': [0.0, 53260358.267673284, -539473103.5027283, 2870720000.2724895, -9203078268.744234, 18786244612.847973, -24676997220.02967, 20244060218.318005, -9451327253.9391, 1918875486.0469925]}\n"
          ],
          "name": "stdout"
        },
        {
          "output_type": "execute_result",
          "data": {
            "text/html": [
              "<div>\n",
              "<style scoped>\n",
              "    .dataframe tbody tr th:only-of-type {\n",
              "        vertical-align: middle;\n",
              "    }\n",
              "\n",
              "    .dataframe tbody tr th {\n",
              "        vertical-align: top;\n",
              "    }\n",
              "\n",
              "    .dataframe thead th {\n",
              "        text-align: right;\n",
              "    }\n",
              "</style>\n",
              "<table border=\"1\" class=\"dataframe\">\n",
              "  <thead>\n",
              "    <tr style=\"text-align: right;\">\n",
              "      <th></th>\n",
              "      <th>M</th>\n",
              "      <th>Train.RMSE</th>\n",
              "      <th>Test.RMSE</th>\n",
              "    </tr>\n",
              "  </thead>\n",
              "  <tbody>\n",
              "    <tr>\n",
              "      <th>0</th>\n",
              "      <td>0</td>\n",
              "      <td>5.325009e-01</td>\n",
              "      <td>5.274265e-01</td>\n",
              "    </tr>\n",
              "    <tr>\n",
              "      <th>1</th>\n",
              "      <td>1</td>\n",
              "      <td>5.323508e-01</td>\n",
              "      <td>4.106987e-01</td>\n",
              "    </tr>\n",
              "    <tr>\n",
              "      <th>2</th>\n",
              "      <td>2</td>\n",
              "      <td>4.370376e-01</td>\n",
              "      <td>3.855147e-01</td>\n",
              "    </tr>\n",
              "    <tr>\n",
              "      <th>3</th>\n",
              "      <td>3</td>\n",
              "      <td>3.569711e-01</td>\n",
              "      <td>7.544909e-02</td>\n",
              "    </tr>\n",
              "    <tr>\n",
              "      <th>4</th>\n",
              "      <td>4</td>\n",
              "      <td>3.205388e-01</td>\n",
              "      <td>6.913208e-02</td>\n",
              "    </tr>\n",
              "    <tr>\n",
              "      <th>5</th>\n",
              "      <td>5</td>\n",
              "      <td>3.160027e-01</td>\n",
              "      <td>6.069693e-02</td>\n",
              "    </tr>\n",
              "    <tr>\n",
              "      <th>6</th>\n",
              "      <td>6</td>\n",
              "      <td>3.143838e-01</td>\n",
              "      <td>4.221504e-02</td>\n",
              "    </tr>\n",
              "    <tr>\n",
              "      <th>7</th>\n",
              "      <td>7</td>\n",
              "      <td>2.750090e-01</td>\n",
              "      <td>3.834310e-02</td>\n",
              "    </tr>\n",
              "    <tr>\n",
              "      <th>8</th>\n",
              "      <td>8</td>\n",
              "      <td>1.288634e-01</td>\n",
              "      <td>1.440865e-02</td>\n",
              "    </tr>\n",
              "    <tr>\n",
              "      <th>9</th>\n",
              "      <td>9</td>\n",
              "      <td>5.647469e-07</td>\n",
              "      <td>8.593300e-10</td>\n",
              "    </tr>\n",
              "  </tbody>\n",
              "</table>\n",
              "</div>"
            ],
            "text/plain": [
              "   M    Train.RMSE     Test.RMSE\n",
              "0  0  5.325009e-01  5.274265e-01\n",
              "1  1  5.323508e-01  4.106987e-01\n",
              "2  2  4.370376e-01  3.855147e-01\n",
              "3  3  3.569711e-01  7.544909e-02\n",
              "4  4  3.205388e-01  6.913208e-02\n",
              "5  5  3.160027e-01  6.069693e-02\n",
              "6  6  3.143838e-01  4.221504e-02\n",
              "7  7  2.750090e-01  3.834310e-02\n",
              "8  8  1.288634e-01  1.440865e-02\n",
              "9  9  5.647469e-07  8.593300e-10"
            ]
          },
          "metadata": {
            "tags": []
          },
          "execution_count": 269
        }
      ]
    },
    {
      "cell_type": "code",
      "metadata": {
        "pycharm": {
          "name": "#%%\n"
        },
        "colab": {
          "base_uri": "https://localhost:8080/",
          "height": 283
        },
        "id": "OTkLuxLfdq2s",
        "outputId": "5cfe4590-6f11-4ca7-8e0e-76063b816ffb"
      },
      "source": [
        "plt.plot( 'M', 'Train.RMSE', data=df1, marker='o', markersize=12, color='blue', linewidth=4)\n",
        "plt.plot( 'M', 'Test.RMSE', data=df1, marker='o',markersize=12, color='red', linewidth=4)\n",
        "plt.legend()\n",
        "plt.ylabel('RMSE')\n",
        "plt.xlabel('M')\n",
        "plt.ylim((0,1))\n",
        "plt.xlim((0,10))\n",
        "plt.show()"
      ],
      "execution_count": 270,
      "outputs": [
        {
          "output_type": "display_data",
          "data": {
            "image/png": "[encoded data removed]",
            "text/plain": [
              "<Figure size 432x288 with 1 Axes>"
            ]
          },
          "metadata": {
            "tags": [],
            "needs_background": "light"
          }
        }
      ]
    },
    {
      "cell_type": "code",
      "metadata": {
        "pycharm": {
          "name": "#%%\n"
        },
        "colab": {
          "base_uri": "https://localhost:8080/"
        },
        "id": "nNZTGbHpdq2t",
        "outputId": "c2e22bc4-d195-4739-aa9c-2814d184cc4e"
      },
      "source": [
        "np.random.seed(50)\n",
        "X2 = np.random.uniform(0,1,120)\n",
        "print(X2)\n",
        "mean, s_d = 0, 1\n",
        "N = np.random.normal(mean, s_d, 120)\n",
        "print(N)\n",
        "import matplotlib.pyplot as plt\n",
        "y2=np.sin(2*np.pi*X2)+(0.1 * N)\n",
        "print(y2)\n",
        "print(X2)"
      ],
      "execution_count": 271,
      "outputs": [
        {
          "output_type": "stream",
          "text": [
            "[0.49460165 0.2280831  0.25547392 0.39632991 0.3773151  0.99657423\n",
            " 0.4081972  0.77189399 0.76053669 0.31000935 0.3465412  0.35176482\n",
            " 0.14546686 0.97266468 0.90917844 0.5599571  0.31359075 0.88820004\n",
            " 0.67457307 0.39108745 0.50718412 0.5241035  0.92800093 0.57137307\n",
            " 0.66833757 0.05225869 0.3270573  0.05640164 0.17982769 0.92593317\n",
            " 0.93801522 0.71409271 0.73268761 0.46174768 0.93132927 0.40642024\n",
            " 0.68320577 0.64991587 0.59876518 0.22203939 0.68235717 0.8780563\n",
            " 0.79671726 0.43200225 0.91787822 0.78183368 0.72575028 0.12485469\n",
            " 0.91630845 0.38771099 0.29492955 0.61673141 0.46784623 0.25533891\n",
            " 0.83899589 0.1786192  0.22711417 0.65987645 0.47911625 0.07344734\n",
            " 0.13896007 0.11230718 0.47778497 0.54029623 0.95807105 0.58379231\n",
            " 0.52666409 0.92226269 0.91925702 0.25200886 0.68263261 0.96427612\n",
            " 0.22696165 0.7160172  0.79776011 0.9367512  0.8537225  0.42154581\n",
            " 0.00543987 0.03486533 0.01390537 0.58890993 0.3829931  0.11481895\n",
            " 0.86445401 0.82165703 0.73749168 0.84034417 0.4015291  0.74862\n",
            " 0.55962945 0.61323757 0.29810165 0.60237917 0.42567684 0.53854438\n",
            " 0.48672986 0.49989164 0.91745948 0.26287702 0.04969769 0.46269203\n",
            " 0.40821902 0.48704348 0.07051578 0.58210861 0.9870218  0.20908846\n",
            " 0.21237612 0.96113505 0.70695408 0.59296821 0.38085241 0.6387405\n",
            " 0.50242857 0.08979307 0.29717467 0.82814423 0.17545597 0.90448946]\n",
            "[-2.58148918e-01  4.71561580e-02 -4.27065148e-01 -1.21232966e-01\n",
            " -1.68574546e-01 -1.95898932e-01 -1.93343117e-01  2.96630101e-01\n",
            " -7.60245427e-01 -2.44471578e+00 -5.30537301e-01  8.42345600e-01\n",
            " -1.64786046e-01 -1.28410173e+00  2.00171484e-01  8.48509079e-01\n",
            " -1.70984543e+00 -1.58366907e+00 -1.10048975e+00 -1.15725754e+00\n",
            "  1.80804486e+00 -1.11117861e+00  8.70415348e-01  7.48972832e-01\n",
            "  7.09532568e-01  3.16149427e-01 -7.78214245e-01 -5.35961593e-01\n",
            " -1.17383222e+00 -9.34796204e-01 -1.10003965e+00 -2.79938128e-02\n",
            " -6.40622085e-01  4.24230644e-01  1.16286277e+00  2.46437227e+00\n",
            " -1.36649321e-01 -1.57595288e+00  1.38272764e+00 -1.59303991e-01\n",
            "  7.83959433e-01 -1.21606730e+00 -5.25882275e-01  1.61969556e-01\n",
            " -9.23367564e-01  1.26273308e+00  1.63500483e+00  3.32213299e-01\n",
            " -5.56578528e-01 -7.17753116e-01 -3.26126407e-01 -3.83289460e-01\n",
            " -7.12784575e-01  6.60447071e-01 -8.44643942e-01 -7.67985708e-02\n",
            "  1.51978981e+00 -8.76912195e-01  1.59174029e-03 -5.55541128e-01\n",
            "  3.31438962e-01 -5.47609949e-01 -1.87739155e+00 -6.85565085e-01\n",
            " -8.33694200e-01  8.85149587e-01 -2.25757984e-01 -6.81047913e-03\n",
            "  9.89442500e-03 -7.23491450e-02 -1.26375258e+00 -1.48723772e+00\n",
            " -1.42416035e+00 -1.00603440e+00 -1.59654951e+00  1.55432675e-01\n",
            "  2.57948816e+00 -4.29556721e-01 -2.80097245e+00  1.92195820e-02\n",
            " -1.29114517e+00  7.44905308e-01  4.81355891e-02 -1.38813876e+00\n",
            "  7.25573474e-01 -2.07576434e-01 -1.43766568e-01 -5.25681222e-01\n",
            "  2.71214439e+00 -7.78900855e-02  8.20972216e-02  6.43275855e-02\n",
            " -9.30425843e-01 -6.45760879e-02 -8.53389473e-02  1.77168765e+00\n",
            " -9.65570806e-01  1.37035427e+00 -5.67278493e-01 -1.06915842e+00\n",
            "  5.65021810e-01  5.72648270e-02  2.41574832e-01  4.86172645e-01\n",
            " -3.63433403e-01  4.89011874e-01  6.35252924e-01  8.01430624e-01\n",
            " -3.98420524e-01 -3.44945739e-01 -1.43216669e+00 -1.27069191e+00\n",
            "  4.38957744e-01  1.55235973e-01 -4.84241670e-01 -3.03159637e-01\n",
            " -5.86911255e-02  1.49697789e+00  8.38017921e-01  2.35720844e-01]\n",
            "[ 0.00809747  0.99524886  0.95670208  0.59415985  0.67988917 -0.04111298\n",
            "  0.52602188 -0.96088997 -1.07383386  0.68528328  0.76854512  0.88668419\n",
            "  0.77547087 -0.29931984 -0.52016093 -0.28302303  0.75025065 -0.80446406\n",
            " -0.99983446  0.51641876  0.13568063 -0.26198636 -0.35006899 -0.35867223\n",
            " -0.80027362  0.35409755  0.80724235  0.29341463  0.78698234 -0.54223811\n",
            " -0.48969458 -0.97745673 -1.05815183  0.28046219 -0.3019211   0.80111774\n",
            " -0.9268841  -0.96630146 -0.44321801  0.96867722 -0.83263766 -0.81500518\n",
            " -1.00981579  0.43055968 -0.58572979 -0.85378991 -0.82491433  0.73968224\n",
            " -0.55760579  0.57666409  0.92780445 -0.70776183  0.12937814  1.06548211\n",
            " -0.93215603  0.89341921  1.14165815 -0.93160292  0.13099946  0.38972259\n",
            "  0.79947575  0.59376534 -0.04861078 -0.31904875 -0.34377994 -0.41398044\n",
            " -0.18932859 -0.4699281  -0.48484983  0.99268543 -1.0381211  -0.37130349\n",
            "  0.84712535 -1.07789447 -1.11496614 -0.37148263 -0.53710037  0.43026421\n",
            " -0.2459242   0.21923934 -0.04185564 -0.45554085  0.67553131  0.52164426\n",
            " -0.67981798 -0.92110276 -1.01128989 -0.89573536  0.85119994 -1.00775142\n",
            " -0.35774907 -0.64653226  0.86163205 -0.60627056  0.44166332 -0.06265228\n",
            " -0.01327489  0.13771628 -0.55240764  0.88981283  0.36371209  0.23799846\n",
            "  0.56939874  0.12993559  0.39236601 -0.44441987 -0.01792881  1.047286\n",
            "  0.93234587 -0.27627053 -1.10686329 -0.67854847  0.72452885 -0.74992119\n",
            " -0.06368272  0.50441263  0.95052296 -0.7321665   0.9761053  -0.54116153]\n",
            "[0.49460165 0.2280831  0.25547392 0.39632991 0.3773151  0.99657423\n",
            " 0.4081972  0.77189399 0.76053669 0.31000935 0.3465412  0.35176482\n",
            " 0.14546686 0.97266468 0.90917844 0.5599571  0.31359075 0.88820004\n",
            " 0.67457307 0.39108745 0.50718412 0.5241035  0.92800093 0.57137307\n",
            " 0.66833757 0.05225869 0.3270573  0.05640164 0.17982769 0.92593317\n",
            " 0.93801522 0.71409271 0.73268761 0.46174768 0.93132927 0.40642024\n",
            " 0.68320577 0.64991587 0.59876518 0.22203939 0.68235717 0.8780563\n",
            " 0.79671726 0.43200225 0.91787822 0.78183368 0.72575028 0.12485469\n",
            " 0.91630845 0.38771099 0.29492955 0.61673141 0.46784623 0.25533891\n",
            " 0.83899589 0.1786192  0.22711417 0.65987645 0.47911625 0.07344734\n",
            " 0.13896007 0.11230718 0.47778497 0.54029623 0.95807105 0.58379231\n",
            " 0.52666409 0.92226269 0.91925702 0.25200886 0.68263261 0.96427612\n",
            " 0.22696165 0.7160172  0.79776011 0.9367512  0.8537225  0.42154581\n",
            " 0.00543987 0.03486533 0.01390537 0.58890993 0.3829931  0.11481895\n",
            " 0.86445401 0.82165703 0.73749168 0.84034417 0.4015291  0.74862\n",
            " 0.55962945 0.61323757 0.29810165 0.60237917 0.42567684 0.53854438\n",
            " 0.48672986 0.49989164 0.91745948 0.26287702 0.04969769 0.46269203\n",
            " 0.40821902 0.48704348 0.07051578 0.58210861 0.9870218  0.20908846\n",
            " 0.21237612 0.96113505 0.70695408 0.59296821 0.38085241 0.6387405\n",
            " 0.50242857 0.08979307 0.29717467 0.82814423 0.17545597 0.90448946]\n"
          ],
          "name": "stdout"
        }
      ]
    },
    {
      "cell_type": "code",
      "metadata": {
        "pycharm": {
          "name": "#%%\n"
        },
        "colab": {
          "base_uri": "https://localhost:8080/",
          "height": 329
        },
        "id": "d8JpNl3mdq2u",
        "outputId": "c4c840c3-f42a-4209-af92-98c8d7824026"
      },
      "source": [
        "np.random.seed(0)\n",
        "polynomial_features= PolynomialFeatures(degree=9)\n",
        "x2_polynomial = polynomial_features.fit_transform(X2.reshape(120,1))\n",
        "\n",
        "x2 = X2[:, np.newaxis]\n",
        "y2= y2[:, np.newaxis]\n",
        "\n",
        "model = LinearRegression()\n",
        "model.fit(x2_polynomial, y2)\n",
        "y2_polynomial_pred = model.predict(x2_polynomial)\n",
        "\n",
        "rmse = np.sqrt(mean_squared_error(y2,y2_polynomial_pred))\n",
        "r2 = r2_score(y2,y2_polynomial_pred)\n",
        "print(\"RMSE:\",rmse)\n",
        "print(\"R2:\",r2)\n",
        "\n",
        "plt.scatter(x2, y2, s=10)\n",
        "sorted_axis = operator.itemgetter(0)\n",
        "sorted_zip = sorted(zip(x2,y2_polynomial_pred), key=sorted_axis)\n",
        "x2, y2_polynomial_pred = zip(*sorted_zip)\n",
        "plt.plot(x2, y2_polynomial_pred, color='m')\n",
        "plt.title('When order,M =9')\n",
        "plt.xlabel('X')\n",
        "plt.ylabel('y=sin(2*pi*X)+0.1 * N')\n",
        "plt.show()"
      ],
      "execution_count": 272,
      "outputs": [
        {
          "output_type": "stream",
          "text": [
            "RMSE: 0.09163503786060073\n",
            "R2: 0.9821301585985651\n"
          ],
          "name": "stdout"
        },
        {
          "output_type": "display_data",
          "data": {
            "image/png": "[encoded data removed]",
            "text/plain": [
              "<Figure size 432x288 with 1 Axes>"
            ]
          },
          "metadata": {
            "tags": [],
            "needs_background": "light"
          }
        }
      ]
    },
    {
      "cell_type": "code",
      "metadata": {
        "pycharm": {
          "name": "#%%\n"
        },
        "id": "7_yXGDuTdq2u"
      },
      "source": [
        "def regularizeRidge(alpha):\n",
        "    if alpha < 0: alpha = math.exp(alpha)\n",
        "    else:\n",
        "        print(\"alpha = \",alpha)\n",
        "        if alpha != 0: print(\"ln(alpha) = \", math.log(alpha))\n",
        "    polynomial_features= PolynomialFeatures(degree=9)\n",
        "    x_transformed =  polynomial_features.fit_transform(X2.reshape(120,1))\n",
        "    polynomial_linear_model = Ridge(alpha = alpha)\n",
        "    polynomial_linear_model.fit(x_transformed, y2)\n",
        "    return polynomial_linear_model\n",
        "\n",
        "def chartRidge(alpha):\n",
        "    model = regularizeRidge(alpha)\n",
        "    xx = np.linspace(0, 1, 120)\n",
        "    x_transformed =polynomial_features.fit_transform(xx.reshape(120,1))\n",
        "    yy = model.predict(x_transformed)\n",
        "    plt.plot(xx, yy,label=alpha)\n",
        "    plt.scatter(X_train, y_train)\n",
        "    plt.scatter(X_test, y_test, c = 'r')\n",
        "    plt.legend()"
      ],
      "execution_count": 273,
      "outputs": []
    },
    {
      "cell_type": "code",
      "metadata": {
        "pycharm": {
          "name": "#%%\n"
        },
        "colab": {
          "base_uri": "https://localhost:8080/",
          "height": 299
        },
        "id": "8GNGH3o9dq2u",
        "outputId": "c8aaa28c-ef31-4b3a-acdb-f86cbb9c4f93"
      },
      "source": [
        "chartRidge(1)"
      ],
      "execution_count": 274,
      "outputs": [
        {
          "output_type": "stream",
          "text": [
            "alpha =  1\n",
            "ln(alpha) =  0.0\n"
          ],
          "name": "stdout"
        },
        {
          "output_type": "display_data",
          "data": {
            "image/png": "[encoded data removed]",
            "text/plain": [
              "<Figure size 432x288 with 1 Axes>"
            ]
          },
          "metadata": {
            "tags": [],
            "needs_background": "light"
          }
        }
      ]
    },
    {
      "cell_type": "code",
      "metadata": {
        "pycharm": {
          "name": "#%%\n"
        },
        "colab": {
          "base_uri": "https://localhost:8080/",
          "height": 299
        },
        "id": "ZDk3rMuqdq2v",
        "outputId": "7bf29e2c-0655-4bcd-d41b-fbc9496b5504"
      },
      "source": [
        "chartRidge(0.1)"
      ],
      "execution_count": 275,
      "outputs": [
        {
          "output_type": "stream",
          "text": [
            "alpha =  0.1\n",
            "ln(alpha) =  -2.3025850929940455\n"
          ],
          "name": "stdout"
        },
        {
          "output_type": "display_data",
          "data": {
            "image/png": "[encoded data removed]",
            "text/plain": [
              "<Figure size 432x288 with 1 Axes>"
            ]
          },
          "metadata": {
            "tags": [],
            "needs_background": "light"
          }
        }
      ]
    },
    {
      "cell_type": "code",
      "metadata": {
        "pycharm": {
          "name": "#%%\n"
        },
        "colab": {
          "base_uri": "https://localhost:8080/",
          "height": 299
        },
        "id": "cY-pnTmfdq2v",
        "outputId": "093a445f-90f9-47bf-e7b4-b4dfeaead83f"
      },
      "source": [
        "chartRidge(0.01)"
      ],
      "execution_count": 276,
      "outputs": [
        {
          "output_type": "stream",
          "text": [
            "alpha =  0.01\n",
            "ln(alpha) =  -4.605170185988091\n"
          ],
          "name": "stdout"
        },
        {
          "output_type": "display_data",
          "data": {
            "image/png": "[encoded data removed]",
            "text/plain": [
              "<Figure size 432x288 with 1 Axes>"
            ]
          },
          "metadata": {
            "tags": [],
            "needs_background": "light"
          }
        }
      ]
    },
    {
      "cell_type": "code",
      "metadata": {
        "pycharm": {
          "name": "#%%\n"
        },
        "colab": {
          "base_uri": "https://localhost:8080/",
          "height": 299
        },
        "id": "IeYIqBR0dq2w",
        "outputId": "aec1c1f7-9409-4a4a-d8dd-3dee4661bb49"
      },
      "source": [
        "chartRidge(0.001)"
      ],
      "execution_count": 277,
      "outputs": [
        {
          "output_type": "stream",
          "text": [
            "alpha =  0.001\n",
            "ln(alpha) =  -6.907755278982137\n"
          ],
          "name": "stdout"
        },
        {
          "output_type": "display_data",
          "data": {
            "image/png": "[encoded data removed]",
            "text/plain": [
              "<Figure size 432x288 with 1 Axes>"
            ]
          },
          "metadata": {
            "tags": [],
            "needs_background": "light"
          }
        }
      ]
    },
    {
      "cell_type": "code",
      "metadata": {
        "pycharm": {
          "name": "#%%\n"
        },
        "colab": {
          "base_uri": "https://localhost:8080/",
          "height": 299
        },
        "id": "FZ2xUYR_dq2w",
        "outputId": "8d30b119-fc00-46f7-96b4-339ac4d65556"
      },
      "source": [
        "chartRidge(0.0001)"
      ],
      "execution_count": 278,
      "outputs": [
        {
          "output_type": "stream",
          "text": [
            "alpha =  0.0001\n",
            "ln(alpha) =  -9.210340371976182\n"
          ],
          "name": "stdout"
        },
        {
          "output_type": "display_data",
          "data": {
            "image/png": "[encoded data removed]",
            "text/plain": [
              "<Figure size 432x288 with 1 Axes>"
            ]
          },
          "metadata": {
            "tags": [],
            "needs_background": "light"
          }
        }
      ]
    },
    {
      "cell_type": "code",
      "metadata": {
        "pycharm": {
          "name": "#%%\n"
        },
        "colab": {
          "base_uri": "https://localhost:8080/",
          "height": 299
        },
        "id": "Ow7vWFUodq2w",
        "outputId": "1c25d2b3-2855-49ad-dfbe-6172be746272"
      },
      "source": [
        "chartRidge(0.00001)"
      ],
      "execution_count": 279,
      "outputs": [
        {
          "output_type": "stream",
          "text": [
            "alpha =  1e-05\n",
            "ln(alpha) =  -11.512925464970229\n"
          ],
          "name": "stdout"
        },
        {
          "output_type": "display_data",
          "data": {
            "image/png": "[encoded data removed]",
            "text/plain": [
              "<Figure size 432x288 with 1 Axes>"
            ]
          },
          "metadata": {
            "tags": [],
            "needs_background": "light"
          }
        }
      ]
    },
    {
      "cell_type": "code",
      "metadata": {
        "pycharm": {
          "name": "#%%\n"
        },
        "id": "0dhgoPVmdq2w"
      },
      "source": [
        "def getMse(Y, yy):\n",
        "    standard = tf.square(Y - yy)\n",
        "    mse = tf.reduce_mean(standard)\n",
        "    return mse.numpy()\n",
        "\n",
        "\n",
        "train_error = np.zeros(30)\n",
        "test_error = np.zeros(30)\n",
        "\n",
        "def getErrorRidge(i:int,  model):\n",
        "    xx_transformed_test = polynomial_features.fit_transform(X_test.reshape(X_test.shape[0], 1))\n",
        "    xx_transformed_train = polynomial_features.fit_transform(X_train.reshape(X_train.shape[0], 1))\n",
        "    yy_test = model.predict(xx_transformed_test)\n",
        "    yy_train = model.predict(xx_transformed_train)\n",
        "    test_error[i] = getMse(y_test, yy_test)\n",
        "    train_error[i] = getMse(y_train, yy_train)"
      ],
      "execution_count": 280,
      "outputs": []
    },
    {
      "cell_type": "code",
      "metadata": {
        "pycharm": {
          "name": "#%%\n"
        },
        "id": "I0s1ObBpdq2w"
      },
      "source": [
        "xx = list(range(-30, 0))\n",
        "for i in xx:\n",
        "    model = regularizeRidge(i)\n",
        "    getErrorRidge(i, model)"
      ],
      "execution_count": 281,
      "outputs": []
    },
    {
      "cell_type": "code",
      "metadata": {
        "pycharm": {
          "name": "#%%\n"
        },
        "colab": {
          "base_uri": "https://localhost:8080/",
          "height": 296
        },
        "id": "t5flBA1Vdq2x",
        "outputId": "1d816127-3ad5-4fe6-92e2-a4f24f84dc06"
      },
      "source": [
        "xx = list(range(-30, 0))\n",
        "plt.plot(xx, test_error, label = \"$test-error$\", c = 'y')\n",
        "plt.plot(xx, train_error, label = \"$train-error$\", c = 'r')\n",
        "\n",
        "plt.xlabel('ln(lamdba)')\n",
        "\n",
        "plt.ylabel('Error')\n",
        "plt.legend()"
      ],
      "execution_count": 282,
      "outputs": [
        {
          "output_type": "execute_result",
          "data": {
            "text/plain": [
              "<matplotlib.legend.Legend at 0x7fb20c18bb50>"
            ]
          },
          "metadata": {
            "tags": []
          },
          "execution_count": 282
        },
        {
          "output_type": "display_data",
          "data": {
            "image/png": "[encoded data removed]",
            "text/plain": [
              "<Figure size 432x288 with 1 Axes>"
            ]
          },
          "metadata": {
            "tags": [],
            "needs_background": "light"
          }
        }
      ]
    },
    {
      "cell_type": "code",
      "metadata": {
        "pycharm": {
          "name": "#%%\n"
        },
        "colab": {
          "base_uri": "https://localhost:8080/"
        },
        "id": "jcCNFIa_dq2x",
        "outputId": "e3154159-1d41-4860-e44d-915d0cb79fa2"
      },
      "source": [
        "accurate_lambda = 0\n",
        "for i in range(-30,0):\n",
        "    if test_error[i+30] == test_error.min(): accurate_lambda = i\n",
        "print(\"best ln(lambda)based on my analysis = \", accurate_lambda)\n",
        "accurate_lambda_0 = math.exp(accurate_lambda)\n",
        "print(\"best lambda = \", accurate_lambda_0)\n",
        "print(\"In Conclusion of this analysis, the model with input ln(lamdba) = \",accurate_lambda,\", lambda = \",accurate_lambda_0,\" will provide best test performance.\")"
      ],
      "execution_count": 283,
      "outputs": [
        {
          "output_type": "stream",
          "text": [
            "best ln(lambda)based on my analysis =  -14\n",
            "best lambda =  8.315287191035679e-07\n",
            "In Conclusion of this analysis, the model with input ln(lamdba) =  -14 , lambda =  8.315287191035679e-07  will provide best test performance.\n"
          ],
          "name": "stdout"
        }
      ]
    },
    {
      "cell_type": "code",
      "metadata": {
        "pycharm": {
          "name": "#%%\n"
        },
        "id": "M1UC1TmgxkZV"
      },
      "source": [
        ""
      ],
      "execution_count": 283,
      "outputs": []
    },
    {
      "cell_type": "code",
      "metadata": {
        "pycharm": {
          "name": "#%%\n"
        },
        "id": "f6jBNjnnxkZV"
      },
      "source": [
        ""
      ],
      "execution_count": 283,
      "outputs": []
    }
  ]
}